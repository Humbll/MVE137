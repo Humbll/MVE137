{
 "cells": [
  {
   "cell_type": "markdown",
   "id": "a8744ae3",
   "metadata": {},
   "source": [
    "# Homework 1\n",
    "\n",
    "## Exersice 03\n",
    "Exercise 3 (Virus test) A medical company is assessing a newly developed\n",
    "test for a certain virus. The so called false negative rate is small: if you have\n",
    "contracted the virus, the probability that the test returns a positive result is\n",
    "0.999. The false positive rate is also small: if you do not have the virus, the\n",
    "probability that the test returns a positive result is only 0.005. Assume that 2%\n",
    "of the population has contracted the virus. If a person chosen uniformly from\n",
    "the population is tested and the result comes back positive, what is the probability\n",
    "that the person has the virus?\n",
    "\n",
    "In python: Draw N = 10^4 pseudo random samples representing the infection\n",
    "status of N individuals. Use these samples and the statistics described above for\n",
    "the virus test to draw pseudo random samples representing a positive or negative\n",
    "virus test for each individual and verify your results from above.\n",
    "### Answers:\n",
    "\n",
    "\\begin{equation}\n",
    " \\frac{0.999 \\cdot 0.02}{0.999 \\cdot 0.02+ 0.005\\cdot (1-0.02)} = 0.80\n",
    "\\end{equation}\n",
    "\n",
    "\n",
    "### Solution:\n",
    "we can describe the scenario using bayes theroem by the following formulas\n",
    "\\begin{equation}\n",
    "P(x|y) = \\frac{P(y|x) \\cdot P(x)}{P(y)} = \\frac{0.999 \\cdot 0.02}{P(y)}\n",
    "\\end{equation}\n",
    "\n",
    "\\begin{equation}\n",
    " \\frac{0.999 \\cdot 0.02}{0.999 \\cdot 0.02+ 0.005\\cdot (1-0.02)} = 0.80\n",
    "\\end{equation}\n"
   ]
  },
  {
   "cell_type": "code",
   "execution_count": 65,
   "id": "62c2b051",
   "metadata": {},
   "outputs": [
    {
     "name": "stdout",
     "output_type": "stream",
     "text": [
      "0.8230088495575221\n"
     ]
    }
   ],
   "source": [
    "import numpy as np\n",
    "import random\n",
    "\n",
    "# Probabilities\n",
    "pinf = 0.02  # Probability of being infected\n",
    "fnr = 0.001  # False negative rate\n",
    "fpr = 0.005  # False positive rate\n",
    "Samples = 10**4  # Number of samples\n",
    "\n",
    "# Generate random samples\n",
    "status = [1 if random.random() < pinf else 0 for _ in range(Samples)]\n",
    "\n",
    "# Simulation\n",
    "test_results = []\n",
    "for s in status:\n",
    "    if s == 1:\n",
    "        # If  person is infected\n",
    "        test_result = 1 if random.random() < (1 - fnr) else 0\n",
    "    else:\n",
    "        # If person not infected\n",
    "        test_result = 1 if random.random() < fpr else 0\n",
    "    test_results.append(test_result)\n",
    "\n",
    "\n",
    "\n",
    "pt = sum(test_results)\n",
    "ptwv = sum([1 for s, t in zip(status, test_results) if s == 1 and t == 1])\n",
    "\n",
    "Phv = ptwv / pt\n",
    "\n",
    "print(\"Probability that a person has the virus given a positive test result:\", Phv)\n"
   ]
  },
  {
   "cell_type": "markdown",
   "id": "d135bd79",
   "metadata": {},
   "source": [
    "## Exercise 8 (Group Testing)\n",
    " A blood test is to be performed on n individuals. Each person can be tested separately, but this is expensive. An alternative\n",
    "strategy is to pool and analyze together the samples of k people. If the test\n",
    "is negative, this one test suffices for the group of k people. If the test is positive,\n",
    "then each of the k persons must be tested individually, which results in k + 1\n",
    "total tests for the k people. Suppose we create n/k disjoint groups of k people\n",
    "(where k divides n) and use the pooling method. Assume that each person has\n",
    "positive result on the test independently with probability p.\n",
    "• What is the probability that the test for a pooled sample of k people will\n",
    "be positive? What is the expected number of tests necessary? python:\n",
    "Confirm your calculations by drawing n = 102 pseudo random test results\n",
    "and dividing the test results into groups of k = 10 with p ∈ {0.02, 0.2, 0.6}.\n",
    "Average your results over 104 iterations.\n",
    "• Describe how to find the best value of k. Derive an approximation as-\n",
    "suming p is close to 0. python: Find the optimal integer k for p ∈\n",
    "{0.02, 0.2, 0.6} by assuming k < 100. Compare with your approximation.\n",
    "20\n",
    "Giuseppe Durisi, Probability and Statistical Learning using Python August 23, 2023\n",
    "• For which values of p is pooling better than just testing every individual?\n",
    "Again, derive an approximation assuming p is small and plug in your\n",
    "approximation of the best value of k. python: Using your results from the\n",
    "previous parts, test if pooling is better or not for n = 102, 0.01 ≤ p ≤ 0.5\n",
    "and the best integer value of k (assume k < 100). Compare with your\n",
    "approximation. You might want to plot some function for different values\n",
    "of p\n",
    "\n",
    "\n",
    "### Answers: \n",
    "Fill in your answers here so that Carl can do a quick check if they are right/wrong\n",
    "\n",
    "* ...\n",
    "\n",
    "\n",
    "### Solution:\n",
    "\n"
   ]
  },
  {
   "cell_type": "code",
   "execution_count": 2,
   "id": "0272c781",
   "metadata": {},
   "outputs": [],
   "source": [
    "# Placeholder for python part of exersice ZZ\n"
   ]
  }
 ],
 "metadata": {
  "kernelspec": {
   "display_name": "Python 3",
   "language": "python",
   "name": "python3"
  },
  "language_info": {
   "codemirror_mode": {
    "name": "ipython",
    "version": 3
   },
   "file_extension": ".py",
   "mimetype": "text/x-python",
   "name": "python",
   "nbconvert_exporter": "python",
   "pygments_lexer": "ipython3",
   "version": "3.11.5"
  }
 },
 "nbformat": 4,
 "nbformat_minor": 5
}
