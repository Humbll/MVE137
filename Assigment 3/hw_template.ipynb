{
 "cells": [
  {
   "cell_type": "markdown",
   "id": "a8744ae3",
   "metadata": {},
   "source": [
    "# Homework 3\n",
    "\n",
    "\n",
    "##Exercise 18 (Errors in these notes) Let X be a Poisson random variable\n",
    "with mean μ representing the number of errors on a page of these notes. Each\n",
    "error is independently a grammatical error with probability p or a spelling error\n",
    "with probability 1 − p. If Y and Z are random variables representing the number\n",
    "of grammatical and spelling errors on a page of this book, prove that Y and Z\n",
    "are Poisson random variables with means μp and μ(1 − p), respectively. Also\n",
    "prove that Y and Z are independent.\n",
    "python: Generate X, Y, Z according to the description above with μ = 10\n",
    "and p = 0.3. Generate 104 instances and verify that what you’ve proven holds.\n",
    "\n",
    "### Solution:\n",
    "\n",
    "\n"
   ]
  },
  {
   "cell_type": "code",
   "execution_count": 1,
   "id": "62c2b051",
   "metadata": {},
   "outputs": [],
   "source": [
    "# Placeholder for python part of exersice YY\n"
   ]
  },
  {
   "cell_type": "markdown",
   "id": "d135bd79",
   "metadata": {},
   "source": [
    "## Exercise 22 (Game Board) A circular game board has K spaces numbered\n",
    "0, 1, . . . K − 1. Starting at space 0 at time n = 0, a player rolls a fair six-sided\n",
    "die to move a token. Hence, given the current token position Xn, the next token\n",
    "position is Xn+1 = (Xn + Rn) mod K where Rn is the result of the player’s\n",
    "nth roll. Find the stationary probability vector.\n",
    "python: Fix K > 20 and initialise 2K different state probability vectors\n",
    "pi(0), i ∈ {0, · · · , 2K − 1}. Calculate pi(103), i ∈ {0, · · · , 2K − 1} and see if it\n",
    "is close to the stationary probability vector. Plot your results.\n",
    "### Solution:\n",
    "\n"
   ]
  },
  {
   "cell_type": "code",
   "execution_count": 2,
   "id": "0272c781",
   "metadata": {},
   "outputs": [],
   "source": [
    "# Placeholder for python part of exersice ZZ\n"
   ]
  }
 ],
 "metadata": {
  "kernelspec": {
   "display_name": "Python 3",
   "language": "python",
   "name": "python3"
  },
  "language_info": {
   "codemirror_mode": {
    "name": "ipython",
    "version": 3
   },
   "file_extension": ".py",
   "mimetype": "text/x-python",
   "name": "python",
   "nbconvert_exporter": "python",
   "pygments_lexer": "ipython3",
   "version": "3.8.8"
  }
 },
 "nbformat": 4,
 "nbformat_minor": 5
}
