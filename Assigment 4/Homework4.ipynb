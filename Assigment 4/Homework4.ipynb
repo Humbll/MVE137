{
 "cells": [
  {
   "cell_type": "markdown",
   "id": "6e90e513",
   "metadata": {},
   "source": [
    "**Homework 4**"
   ]
  },
  {
   "cell_type": "markdown",
   "id": "166ceaf8",
   "metadata": {},
   "source": [
    "(1): \n",
    "In this exercise you will create some simulated data and will fit simple linear regression models to it. Make sure to use random.seed(1), prior to starting part (a) to ensure consistent results. (**3 pts**)"
   ]
  },
  {
   "cell_type": "code",
   "execution_count": 17,
   "id": "a4d9c93e",
   "metadata": {},
   "outputs": [],
   "source": [
    "import numpy as np\n",
    "import pandas as pd\n",
    "import math \n",
    "import statsmodels.formula.api as smf\n",
    "from sklearn.linear_model import LinearRegression\n",
    "\n",
    "import matplotlib.pyplot as plt\n",
    "import seaborn as sns\n",
    "import random\n",
    "%matplotlib inline  \n",
    "np.random.seed(1)\n"
   ]
  },
  {
   "cell_type": "markdown",
   "id": "f224244b",
   "metadata": {},
   "source": [
    "(a) Using the random.normal() function, create a vector, $x$, containing 100 observations drawn from a N(0, 1) distribution. This represents a feature, $X$."
   ]
  },
  {
   "cell_type": "code",
   "execution_count": 18,
   "id": "a1c136cf",
   "metadata": {},
   "outputs": [],
   "source": [
    "mu, sigma = 0, 1 # mean and standard deviation\n",
    "X = np.random.normal(mu, math.sqrt(sigma), 100)"
   ]
  },
  {
   "cell_type": "markdown",
   "id": "27376e17",
   "metadata": {},
   "source": [
    "(b) Using the random.normal() function, create a vector, $eps$, containing 100 observations drawn from a N(0, 0.25) distribution i.e. a normal distribution with mean zero and variance 0.25."
   ]
  },
  {
   "cell_type": "code",
   "execution_count": 19,
   "id": "7a5bd39f",
   "metadata": {},
   "outputs": [],
   "source": [
    "mu, sigma = 0, 0.5  # mean and standard deviation\n",
    "eps = np.random.normal(mu, math.sqrt(sigma), 100)"
   ]
  },
  {
   "cell_type": "markdown",
   "id": "24dc8db4",
   "metadata": {},
   "source": [
    "(c) Using $x$ and $eps$, generate a vector $y$ according to the model\n",
    "\n",
    "$Y = −1 + 0.5X + \\epsilon$ (3.39)\n",
    "\n",
    "What is the length of the vector $y$? What are the values of $\\beta_0$\n",
    "and $\\beta_1$ in this linear model?"
   ]
  },
  {
   "cell_type": "code",
   "execution_count": 20,
   "id": "9727f9f5",
   "metadata": {},
   "outputs": [
    {
     "name": "stdout",
     "output_type": "stream",
     "text": [
      "The length of Y is: 100\n",
      "B1: 0.5\n",
      "B0 -1\n"
     ]
    }
   ],
   "source": [
    "Y = -1 + 0.5*X + eps\n",
    "print('The length of Y is:', len(Y))                \n",
    "print('B1:', 0.5)                \n",
    "print('B0:', -1)  "
   ]
  },
  {
   "cell_type": "markdown",
   "id": "52be7678",
   "metadata": {},
   "source": [
    "(d) Create a scatterplot displaying the relationship between $x$ and $y$. Comment on what you observe."
   ]
  },
  {
   "cell_type": "code",
   "execution_count": 21,
   "id": "e9d33528",
   "metadata": {},
   "outputs": [
    {
     "data": {
      "text/plain": [
       "<matplotlib.collections.PathCollection at 0x1fdee09c220>"
      ]
     },
     "execution_count": 21,
     "metadata": {},
     "output_type": "execute_result"
    },
    {
     "data": {
      "image/png": "[encoded data removed]",
      "text/plain": [
       "<Figure size 432x288 with 1 Axes>"
      ]
     },
     "metadata": {
      "needs_background": "light"
     },
     "output_type": "display_data"
    }
   ],
   "source": [
    "plt.scatter(X,Y)"
   ]
  },
  {
   "cell_type": "markdown",
   "id": "d0365cc1",
   "metadata": {},
   "source": [
    "(e) Fit a least squares linear model to predict $y$ using $x$. Comment on the model obtained. How do $\\hat{\\beta_0}$ and\n",
    "$\\hat{\\beta_1}$ compare to $\\beta_0$ and\n",
    "$\\beta_1$?"
   ]
  },
  {
   "cell_type": "code",
   "execution_count": 22,
   "id": "63d1a504",
   "metadata": {},
   "outputs": [
    {
     "name": "stdout",
     "output_type": "stream",
     "text": [
      "B1 Estimate is: 0.5674771733139385\n",
      "B0 Estimate is -0.896045736224232\n"
     ]
    },
    {
     "data": {
      "text/plain": [
       "<matplotlib.legend.Legend at 0x1fdee0fb8b0>"
      ]
     },
     "execution_count": 22,
     "metadata": {},
     "output_type": "execute_result"
    },
    {
     "data": {
      "image/png": "[encoded data removed]",
      "text/plain": [
       "<Figure size 432x288 with 1 Axes>"
      ]
     },
     "metadata": {
      "needs_background": "light"
     },
     "output_type": "display_data"
    }
   ],
   "source": [
    "plt.scatter(X,Y)\n",
    "X = np.array(X).reshape(-1,1)\n",
    "Y = np.array(Y).reshape(-1,1)\n",
    "linreg = LinearRegression().fit(X,Y)\n",
    "B0_es=float(linreg.intercept_)\n",
    "B1_es=float(linreg.coef_)\n",
    "print('B1 Estimate is:', B1_es)\n",
    "print('B0 Estimate is', B0_es)\n",
    "Y_es=B0_es+B1_es*X\n",
    "plt.plot(X,Y_es, color='r')\n",
    "plt.legend(['Actual data', 'Least Square line'])\n"
   ]
  },
  {
   "cell_type": "markdown",
   "id": "755dd467",
   "metadata": {},
   "source": [
    "Due to the noise, $\\hat{\\beta_0}$ and $\\hat{\\beta_1}$ are different than ${\\beta_0}$ and ${\\beta_1}$, compared to the model used."
   ]
  },
  {
   "cell_type": "markdown",
   "id": "2115982e",
   "metadata": {},
   "source": [
    "(f) Repeat (a)–(e) after modifying the data generation process in such a way that there is less noise in the data. The model (3.39) should remain the same. You can do this by decreasing the variance\n",
    "of the normal distribution used to generate the error term in (b). Describe your results."
   ]
  },
  {
   "cell_type": "code",
   "execution_count": 30,
   "id": "a627293a",
   "metadata": {},
   "outputs": [
    {
     "name": "stdout",
     "output_type": "stream",
     "text": [
      "B1 Estimate is: 0.5000000000000001\n",
      "B0 Estimate is -1.0000000000000002\n",
      "B1 Estimate is: 0.5227737792847216\n",
      "B0 Estimate is -0.9570525311320086\n"
     ]
    },
    {
     "data": {
      "text/plain": [
       "Text(0.5, 0, 'X')"
      ]
     },
     "execution_count": 30,
     "metadata": {},
     "output_type": "execute_result"
    },
    {
     "data": {
      "image/png": "[encoded data removed]",
      "text/plain": [
       "<Figure size 432x288 with 2 Axes>"
      ]
     },
     "metadata": {
      "needs_background": "light"
     },
     "output_type": "display_data"
    }
   ],
   "source": [
    "%matplotlib inline  \n",
    "fig, (ax1, ax2) = plt.subplots(1,2)\n",
    "mu, sigma = 0, 1 # mean and standard deviation\n",
    "X = np.random.normal(mu, math.sqrt(sigma), 100)\n",
    "mu, sigma = 0, 0  # mean and standard deviation\n",
    "eps = np.random.normal(mu, math.sqrt(sigma), 100)\n",
    "Y = -1 + 0.5*X + eps\n",
    "ax1.scatter(X,Y)\n",
    "X = np.array(X).reshape(-1,1)\n",
    "Y = np.array(Y).reshape(-1,1)\n",
    "linreg = LinearRegression().fit(X,Y)\n",
    "B0_es=float(linreg.intercept_)\n",
    "B1_es=float(linreg.coef_)\n",
    "print('B1 Estimate is:', B1_es)\n",
    "print('B0 Estimate is', B0_es)\n",
    "Y_es=B0_es+B1_es*X\n",
    "ax1.plot(X,Y_es, color='r')\n",
    "ax1.legend(['Actual data', 'Least Square line'])\n",
    "\n",
    "mu, sigma = 0, 1 # mean and standard deviation\n",
    "X = np.random.normal(mu, math.sqrt(sigma), 100)\n",
    "mu, sigma = 0, 0.2  # mean and standard deviation\n",
    "eps = np.random.normal(mu, math.sqrt(sigma), 100)\n",
    "Y = -1 + 0.5*X + eps\n",
    "ax2.scatter(X,Y)\n",
    "X = np.array(X).reshape(-1,1)\n",
    "Y = np.array(Y).reshape(-1,1)\n",
    "linreg = LinearRegression().fit(X,Y)\n",
    "B0_es=float(linreg.intercept_)\n",
    "B1_es=float(linreg.coef_)\n",
    "print('B1 Estimate is:', B1_es)\n",
    "print('B0 Estimate is', B0_es)\n",
    "Y_es=B0_es+B1_es*X\n",
    "ax2.plot(X,Y_es, color='r')\n",
    "ax2.legend(['Actual data', 'Least Square line'])\n",
    "ax1.set_title('sigma=0')\n",
    "ax2.set_title('sigma=0.2')\n",
    "ax1.set_xlabel('X')\n",
    "ax1.set_ylabel('Y')\n",
    "ax2.set_xlabel('X')\n"
   ]
  },
  {
   "cell_type": "markdown",
   "id": "90c4d721",
   "metadata": {},
   "source": [
    "Decreasing the variance of noise results with more linear Y values with respect to X. In this way, it becomes easier to express the relationship with linear regression. And when there is no noise, the relationship between the data and the estimated values becomes linear. Therefore we get the same results with the actual data."
   ]
  },
  {
   "cell_type": "markdown",
   "id": "e2607dfd",
   "metadata": {},
   "source": [
    "(g) Repeat (a)–(e) after modifying the data generation process in such a way that there is more noise in the data. The model\n",
    "(3.39) should remain the same. You can do this by increasing\n",
    "the variance of the normal distribution used to generate the\n",
    "error term in (b). Describe your results"
   ]
  },
  {
   "cell_type": "code",
   "execution_count": 31,
   "id": "268222e2",
   "metadata": {},
   "outputs": [
    {
     "name": "stdout",
     "output_type": "stream",
     "text": [
      "B1 Estimate is: 0.5035556029957687\n",
      "B0 Estimate is -0.9712525139699961\n",
      "B1 Estimate is: 0.5378755053988581\n",
      "B0 Estimate is -1.11859699249657\n"
     ]
    },
    {
     "data": {
      "text/plain": [
       "Text(0.5, 0, 'X')"
      ]
     },
     "execution_count": 31,
     "metadata": {},
     "output_type": "execute_result"
    },
    {
     "data": {
      "image/png": "[encoded data removed]",
      "text/plain": [
       "<Figure size 432x288 with 2 Axes>"
      ]
     },
     "metadata": {
      "needs_background": "light"
     },
     "output_type": "display_data"
    }
   ],
   "source": [
    "%matplotlib inline  \n",
    "fig, (ax1, ax2) = plt.subplots(1,2)\n",
    "mu, sigma = 0, 1 # mean and standard deviation\n",
    "X = np.random.normal(mu, math.sqrt(sigma), 100)\n",
    "mu, sigma = 0, 0.8  # mean and standard deviation\n",
    "eps = np.random.normal(mu, math.sqrt(sigma), 100)\n",
    "Y = -1 + 0.5*X + eps\n",
    "ax1.scatter(X,Y)\n",
    "X = np.array(X).reshape(-1,1)\n",
    "Y = np.array(Y).reshape(-1,1)\n",
    "linreg = LinearRegression().fit(X,Y)\n",
    "B0_es=float(linreg.intercept_)\n",
    "B1_es=float(linreg.coef_)\n",
    "print('B1 Estimate is:', B1_es)\n",
    "print('B0 Estimate is', B0_es)\n",
    "Y_es=B0_es+B1_es*X\n",
    "ax1.plot(X,Y_es, color='r')\n",
    "ax1.legend(['Actual data', 'Least Square line'])\n",
    "\n",
    "mu, sigma = 0, 1 # mean and standard deviation\n",
    "X = np.random.normal(mu, math.sqrt(sigma), 100)\n",
    "mu, sigma = 0, 1  # mean and standard deviation\n",
    "eps = np.random.normal(mu, math.sqrt(sigma), 100)\n",
    "Y = -1 + 0.5*X + eps\n",
    "ax2.scatter(X,Y)\n",
    "X = np.array(X).reshape(-1,1)\n",
    "Y = np.array(Y).reshape(-1,1)\n",
    "linreg = LinearRegression().fit(X,Y)\n",
    "B0_es=float(linreg.intercept_)\n",
    "B1_es=float(linreg.coef_)\n",
    "print('B1 Estimate is:', B1_es)\n",
    "print('B0 Estimate is', B0_es)\n",
    "Y_es=B0_es+B1_es*X\n",
    "ax2.plot(X,Y_es, color='r')\n",
    "ax2.legend(['Actual data', 'Least Square line'])\n",
    "ax1.set_title('sigma=0.8')\n",
    "ax2.set_title('sigma=1')\n",
    "ax1.set_xlabel('X')\n",
    "ax1.set_ylabel('Y')\n",
    "ax2.set_xlabel('X')"
   ]
  },
  {
   "cell_type": "markdown",
   "id": "1a2efb5a",
   "metadata": {},
   "source": [
    "Increasing the variance of noise results with less linear Y values with respect to X. In this way, it becomes harder to express the relationship with linear regression due to the increasing noise term. One more thing that can be seen from the figure is, as we increase the cariance of the noise, the points become even more scattered. "
   ]
  },
  {
   "cell_type": "markdown",
   "id": "da289ec1",
   "metadata": {},
   "source": [
    "(2): In this exercise, you will implement KNN algorithm and compute Root Mean Square Error (RMSE) for different $k$ values in (a) and (b). The first steps are already completed. (**2 pts**)"
   ]
  },
  {
   "cell_type": "code",
   "execution_count": 1,
   "id": "a30829d8",
   "metadata": {},
   "outputs": [],
   "source": [
    "import pandas as pd\n",
    "df = pd.read_csv('train.csv')"
   ]
  },
  {
   "cell_type": "markdown",
   "id": "422945ed",
   "metadata": {},
   "source": [
    "Impute missing values"
   ]
  },
  {
   "cell_type": "code",
   "execution_count": 2,
   "id": "e339e80d",
   "metadata": {},
   "outputs": [],
   "source": [
    "df.isnull().sum()\n",
    "mean = df['Item_Weight'].mean()\n",
    "df['Item_Weight'].fillna(mean, inplace =True)\n",
    "\n",
    "mode = df['Outlet_Size'].mode() \n",
    "df['Outlet_Size'].fillna(mode[0], inplace =True)"
   ]
  },
  {
   "cell_type": "markdown",
   "id": "7b153c7e",
   "metadata": {},
   "source": [
    "Change Categorical variables to dummy variables"
   ]
  },
  {
   "cell_type": "code",
   "execution_count": 3,
   "id": "bdbe3521",
   "metadata": {},
   "outputs": [],
   "source": [
    "df.drop(['Item_Identifier', 'Outlet_Identifier'], axis=1, inplace=True)\n",
    "df = pd.get_dummies(df)"
   ]
  },
  {
   "cell_type": "markdown",
   "id": "82859479",
   "metadata": {},
   "source": [
    "Split train and test data"
   ]
  },
  {
   "cell_type": "code",
   "execution_count": 4,
   "id": "0ff900ba",
   "metadata": {},
   "outputs": [],
   "source": [
    "from sklearn.model_selection import train_test_split\n",
    "train , test = train_test_split(df, test_size = 0.3)\n",
    "\n",
    "x_train = train.drop('Item_Outlet_Sales', axis=1)\n",
    "y_train = train['Item_Outlet_Sales']\n",
    "\n",
    "x_test = test.drop('Item_Outlet_Sales', axis = 1)\n",
    "y_test = test['Item_Outlet_Sales']"
   ]
  },
  {
   "cell_type": "markdown",
   "id": "174e9f96",
   "metadata": {},
   "source": [
    "Scale the features"
   ]
  },
  {
   "cell_type": "code",
   "execution_count": 5,
   "id": "15ff5265",
   "metadata": {},
   "outputs": [],
   "source": [
    "from sklearn.preprocessing import MinMaxScaler\n",
    "scaler = MinMaxScaler(feature_range=(0, 1))\n",
    "\n",
    "x_train_scaled = scaler.fit_transform(x_train)\n",
    "x_train = pd.DataFrame(x_train_scaled)\n",
    "\n",
    "x_test_scaled = scaler.fit_transform(x_test)\n",
    "x_test = pd.DataFrame(x_test_scaled)"
   ]
  },
  {
   "cell_type": "code",
   "execution_count": 6,
   "id": "8885ce5b",
   "metadata": {},
   "outputs": [],
   "source": [
    "#import required packages\n",
    "from sklearn import neighbors\n",
    "from sklearn.neighbors import KNeighborsRegressor\n",
    "from sklearn.metrics import mean_squared_error \n",
    "from math import sqrt\n",
    "import matplotlib.pyplot as plt"
   ]
  },
  {
   "cell_type": "markdown",
   "id": "6f4c9d7e",
   "metadata": {},
   "source": [
    "(a) Implement KNN regression and compute the RMSE for a range of values of $k$ from 1 to 25. You may first fit the regression model into train set, i.e., x_train, y_train, and then make predictions on the test set using x_test. Finally, the RMSE between actual y_test and predictions can be calculated.  "
   ]
  },
  {
   "cell_type": "code",
   "execution_count": 7,
   "id": "19c08446",
   "metadata": {},
   "outputs": [],
   "source": [
    "rmse_val = [] \n",
    "for K in range(25):\n",
    "    knn_model = neighbors.KNeighborsRegressor(n_neighbors = K+1)\n",
    "    knn_model.fit(x_train, y_train)  \n",
    "    test_preds=knn_model.predict(x_test) \n",
    "    mse=mean_squared_error(y_test,test_preds)\n",
    "    rmse = sqrt(mse) \n",
    "    rmse_val.append(rmse)\n"
   ]
  },
  {
   "cell_type": "markdown",
   "id": "89c8ecec",
   "metadata": {},
   "source": [
    "(b) Plot the RMSE values against $k$ values."
   ]
  },
  {
   "cell_type": "code",
   "execution_count": 11,
   "id": "589dc316",
   "metadata": {},
   "outputs": [
    {
     "data": {
      "text/plain": [
       "Text(0.5, 0, 'k')"
      ]
     },
     "execution_count": 11,
     "metadata": {},
     "output_type": "execute_result"
    },
    {
     "data": {
      "image/png": "[encoded data removed]",
      "text/plain": [
       "<Figure size 432x288 with 1 Axes>"
      ]
     },
     "metadata": {
      "needs_background": "light"
     },
     "output_type": "display_data"
    }
   ],
   "source": [
    "import numpy as np\n",
    "fig2, ax2 = plt.subplots()\n",
    "k=np.arange(1, 26, 1)\n",
    "ax2.plot(k,rmse_val)\n",
    "ax2.set_ylabel('RMS Value')\n",
    "ax2.set_xlabel('k')\n"
   ]
  },
  {
   "cell_type": "code",
   "execution_count": null,
   "id": "cf54e003",
   "metadata": {},
   "outputs": [],
   "source": []
  }
 ],
 "metadata": {
  "kernelspec": {
   "display_name": "Python 3 (ipykernel)",
   "language": "python",
   "name": "python3"
  },
  "language_info": {
   "codemirror_mode": {
    "name": "ipython",
    "version": 3
   },
   "file_extension": ".py",
   "mimetype": "text/x-python",
   "name": "python",
   "nbconvert_exporter": "python",
   "pygments_lexer": "ipython3",
   "version": "3.9.7"
  },
  "vscode": {
   "interpreter": {
    "hash": "26de051ba29f2982a8de78e945f0abaf191376122a1563185a90213a26c5da77"
   }
  }
 },
 "nbformat": 4,
 "nbformat_minor": 5
}
