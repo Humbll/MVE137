{
 "cells": [
  {
   "cell_type": "markdown",
   "id": "33cee4e9",
   "metadata": {},
   "source": [
    "**Homework 5**"
   ]
  },
  {
   "cell_type": "markdown",
   "id": "ede52b5b",
   "metadata": {},
   "source": [
    "(1) In this part, we will predict the number of applications received\n",
    "using the other variables in the $\\it{College}$ data set."
   ]
  },
  {
   "cell_type": "code",
   "execution_count": 77,
   "id": "ea061e3f",
   "metadata": {},
   "outputs": [],
   "source": [
    "import numpy as np\n",
    "import pandas as pd\n",
    "from sklearn.model_selection import train_test_split\n",
    "from sklearn.linear_model import LinearRegression\n",
    "from sklearn.linear_model import RidgeCV, LassoCV\n",
    "from sklearn import preprocessing\n",
    "from sklearn.metrics import mean_squared_error"
   ]
  },
  {
   "cell_type": "markdown",
   "id": "9bb81279",
   "metadata": {},
   "source": [
    "Load the 'College.csv' data set"
   ]
  },
  {
   "cell_type": "code",
   "execution_count": 87,
   "id": "39901b35",
   "metadata": {},
   "outputs": [
    {
     "data": {
      "text/html": [
       "<div>\n",
       "<style scoped>\n",
       "    .dataframe tbody tr th:only-of-type {\n",
       "        vertical-align: middle;\n",
       "    }\n",
       "\n",
       "    .dataframe tbody tr th {\n",
       "        vertical-align: top;\n",
       "    }\n",
       "\n",
       "    .dataframe thead th {\n",
       "        text-align: right;\n",
       "    }\n",
       "</style>\n",
       "<table border=\"1\" class=\"dataframe\">\n",
       "  <thead>\n",
       "    <tr style=\"text-align: right;\">\n",
       "      <th></th>\n",
       "      <th>Unnamed: 0</th>\n",
       "      <th>Private</th>\n",
       "      <th>Apps</th>\n",
       "      <th>Accept</th>\n",
       "      <th>Enroll</th>\n",
       "      <th>Top10perc</th>\n",
       "      <th>Top25perc</th>\n",
       "      <th>F.Undergrad</th>\n",
       "      <th>P.Undergrad</th>\n",
       "      <th>Outstate</th>\n",
       "      <th>Room.Board</th>\n",
       "      <th>Books</th>\n",
       "      <th>Personal</th>\n",
       "      <th>PhD</th>\n",
       "      <th>Terminal</th>\n",
       "      <th>S.F.Ratio</th>\n",
       "      <th>perc.alumni</th>\n",
       "      <th>Expend</th>\n",
       "      <th>Grad.Rate</th>\n",
       "    </tr>\n",
       "  </thead>\n",
       "  <tbody>\n",
       "    <tr>\n",
       "      <th>0</th>\n",
       "      <td>Abilene Christian University</td>\n",
       "      <td>1</td>\n",
       "      <td>1660</td>\n",
       "      <td>1232</td>\n",
       "      <td>721</td>\n",
       "      <td>23</td>\n",
       "      <td>52</td>\n",
       "      <td>2885</td>\n",
       "      <td>537</td>\n",
       "      <td>7440</td>\n",
       "      <td>3300</td>\n",
       "      <td>450</td>\n",
       "      <td>2200</td>\n",
       "      <td>70</td>\n",
       "      <td>78</td>\n",
       "      <td>18.1</td>\n",
       "      <td>12</td>\n",
       "      <td>7041</td>\n",
       "      <td>60</td>\n",
       "    </tr>\n",
       "    <tr>\n",
       "      <th>1</th>\n",
       "      <td>Adelphi University</td>\n",
       "      <td>1</td>\n",
       "      <td>2186</td>\n",
       "      <td>1924</td>\n",
       "      <td>512</td>\n",
       "      <td>16</td>\n",
       "      <td>29</td>\n",
       "      <td>2683</td>\n",
       "      <td>1227</td>\n",
       "      <td>12280</td>\n",
       "      <td>6450</td>\n",
       "      <td>750</td>\n",
       "      <td>1500</td>\n",
       "      <td>29</td>\n",
       "      <td>30</td>\n",
       "      <td>12.2</td>\n",
       "      <td>16</td>\n",
       "      <td>10527</td>\n",
       "      <td>56</td>\n",
       "    </tr>\n",
       "    <tr>\n",
       "      <th>2</th>\n",
       "      <td>Adrian College</td>\n",
       "      <td>1</td>\n",
       "      <td>1428</td>\n",
       "      <td>1097</td>\n",
       "      <td>336</td>\n",
       "      <td>22</td>\n",
       "      <td>50</td>\n",
       "      <td>1036</td>\n",
       "      <td>99</td>\n",
       "      <td>11250</td>\n",
       "      <td>3750</td>\n",
       "      <td>400</td>\n",
       "      <td>1165</td>\n",
       "      <td>53</td>\n",
       "      <td>66</td>\n",
       "      <td>12.9</td>\n",
       "      <td>30</td>\n",
       "      <td>8735</td>\n",
       "      <td>54</td>\n",
       "    </tr>\n",
       "    <tr>\n",
       "      <th>3</th>\n",
       "      <td>Agnes Scott College</td>\n",
       "      <td>1</td>\n",
       "      <td>417</td>\n",
       "      <td>349</td>\n",
       "      <td>137</td>\n",
       "      <td>60</td>\n",
       "      <td>89</td>\n",
       "      <td>510</td>\n",
       "      <td>63</td>\n",
       "      <td>12960</td>\n",
       "      <td>5450</td>\n",
       "      <td>450</td>\n",
       "      <td>875</td>\n",
       "      <td>92</td>\n",
       "      <td>97</td>\n",
       "      <td>7.7</td>\n",
       "      <td>37</td>\n",
       "      <td>19016</td>\n",
       "      <td>59</td>\n",
       "    </tr>\n",
       "    <tr>\n",
       "      <th>4</th>\n",
       "      <td>Alaska Pacific University</td>\n",
       "      <td>1</td>\n",
       "      <td>193</td>\n",
       "      <td>146</td>\n",
       "      <td>55</td>\n",
       "      <td>16</td>\n",
       "      <td>44</td>\n",
       "      <td>249</td>\n",
       "      <td>869</td>\n",
       "      <td>7560</td>\n",
       "      <td>4120</td>\n",
       "      <td>800</td>\n",
       "      <td>1500</td>\n",
       "      <td>76</td>\n",
       "      <td>72</td>\n",
       "      <td>11.9</td>\n",
       "      <td>2</td>\n",
       "      <td>10922</td>\n",
       "      <td>15</td>\n",
       "    </tr>\n",
       "    <tr>\n",
       "      <th>...</th>\n",
       "      <td>...</td>\n",
       "      <td>...</td>\n",
       "      <td>...</td>\n",
       "      <td>...</td>\n",
       "      <td>...</td>\n",
       "      <td>...</td>\n",
       "      <td>...</td>\n",
       "      <td>...</td>\n",
       "      <td>...</td>\n",
       "      <td>...</td>\n",
       "      <td>...</td>\n",
       "      <td>...</td>\n",
       "      <td>...</td>\n",
       "      <td>...</td>\n",
       "      <td>...</td>\n",
       "      <td>...</td>\n",
       "      <td>...</td>\n",
       "      <td>...</td>\n",
       "      <td>...</td>\n",
       "    </tr>\n",
       "    <tr>\n",
       "      <th>772</th>\n",
       "      <td>Worcester State College</td>\n",
       "      <td>0</td>\n",
       "      <td>2197</td>\n",
       "      <td>1515</td>\n",
       "      <td>543</td>\n",
       "      <td>4</td>\n",
       "      <td>26</td>\n",
       "      <td>3089</td>\n",
       "      <td>2029</td>\n",
       "      <td>6797</td>\n",
       "      <td>3900</td>\n",
       "      <td>500</td>\n",
       "      <td>1200</td>\n",
       "      <td>60</td>\n",
       "      <td>60</td>\n",
       "      <td>21.0</td>\n",
       "      <td>14</td>\n",
       "      <td>4469</td>\n",
       "      <td>40</td>\n",
       "    </tr>\n",
       "    <tr>\n",
       "      <th>773</th>\n",
       "      <td>Xavier University</td>\n",
       "      <td>1</td>\n",
       "      <td>1959</td>\n",
       "      <td>1805</td>\n",
       "      <td>695</td>\n",
       "      <td>24</td>\n",
       "      <td>47</td>\n",
       "      <td>2849</td>\n",
       "      <td>1107</td>\n",
       "      <td>11520</td>\n",
       "      <td>4960</td>\n",
       "      <td>600</td>\n",
       "      <td>1250</td>\n",
       "      <td>73</td>\n",
       "      <td>75</td>\n",
       "      <td>13.3</td>\n",
       "      <td>31</td>\n",
       "      <td>9189</td>\n",
       "      <td>83</td>\n",
       "    </tr>\n",
       "    <tr>\n",
       "      <th>774</th>\n",
       "      <td>Xavier University of Louisiana</td>\n",
       "      <td>1</td>\n",
       "      <td>2097</td>\n",
       "      <td>1915</td>\n",
       "      <td>695</td>\n",
       "      <td>34</td>\n",
       "      <td>61</td>\n",
       "      <td>2793</td>\n",
       "      <td>166</td>\n",
       "      <td>6900</td>\n",
       "      <td>4200</td>\n",
       "      <td>617</td>\n",
       "      <td>781</td>\n",
       "      <td>67</td>\n",
       "      <td>75</td>\n",
       "      <td>14.4</td>\n",
       "      <td>20</td>\n",
       "      <td>8323</td>\n",
       "      <td>49</td>\n",
       "    </tr>\n",
       "    <tr>\n",
       "      <th>775</th>\n",
       "      <td>Yale University</td>\n",
       "      <td>1</td>\n",
       "      <td>10705</td>\n",
       "      <td>2453</td>\n",
       "      <td>1317</td>\n",
       "      <td>95</td>\n",
       "      <td>99</td>\n",
       "      <td>5217</td>\n",
       "      <td>83</td>\n",
       "      <td>19840</td>\n",
       "      <td>6510</td>\n",
       "      <td>630</td>\n",
       "      <td>2115</td>\n",
       "      <td>96</td>\n",
       "      <td>96</td>\n",
       "      <td>5.8</td>\n",
       "      <td>49</td>\n",
       "      <td>40386</td>\n",
       "      <td>99</td>\n",
       "    </tr>\n",
       "    <tr>\n",
       "      <th>776</th>\n",
       "      <td>York College of Pennsylvania</td>\n",
       "      <td>1</td>\n",
       "      <td>2989</td>\n",
       "      <td>1855</td>\n",
       "      <td>691</td>\n",
       "      <td>28</td>\n",
       "      <td>63</td>\n",
       "      <td>2988</td>\n",
       "      <td>1726</td>\n",
       "      <td>4990</td>\n",
       "      <td>3560</td>\n",
       "      <td>500</td>\n",
       "      <td>1250</td>\n",
       "      <td>75</td>\n",
       "      <td>75</td>\n",
       "      <td>18.1</td>\n",
       "      <td>28</td>\n",
       "      <td>4509</td>\n",
       "      <td>99</td>\n",
       "    </tr>\n",
       "  </tbody>\n",
       "</table>\n",
       "<p>777 rows × 19 columns</p>\n",
       "</div>"
      ],
      "text/plain": [
       "                         Unnamed: 0  Private   Apps  Accept  Enroll  \\\n",
       "0      Abilene Christian University        1   1660    1232     721   \n",
       "1                Adelphi University        1   2186    1924     512   \n",
       "2                    Adrian College        1   1428    1097     336   \n",
       "3               Agnes Scott College        1    417     349     137   \n",
       "4         Alaska Pacific University        1    193     146      55   \n",
       "..                              ...      ...    ...     ...     ...   \n",
       "772         Worcester State College        0   2197    1515     543   \n",
       "773               Xavier University        1   1959    1805     695   \n",
       "774  Xavier University of Louisiana        1   2097    1915     695   \n",
       "775                 Yale University        1  10705    2453    1317   \n",
       "776    York College of Pennsylvania        1   2989    1855     691   \n",
       "\n",
       "     Top10perc  Top25perc  F.Undergrad  P.Undergrad  Outstate  Room.Board  \\\n",
       "0           23         52         2885          537      7440        3300   \n",
       "1           16         29         2683         1227     12280        6450   \n",
       "2           22         50         1036           99     11250        3750   \n",
       "3           60         89          510           63     12960        5450   \n",
       "4           16         44          249          869      7560        4120   \n",
       "..         ...        ...          ...          ...       ...         ...   \n",
       "772          4         26         3089         2029      6797        3900   \n",
       "773         24         47         2849         1107     11520        4960   \n",
       "774         34         61         2793          166      6900        4200   \n",
       "775         95         99         5217           83     19840        6510   \n",
       "776         28         63         2988         1726      4990        3560   \n",
       "\n",
       "     Books  Personal  PhD  Terminal  S.F.Ratio  perc.alumni  Expend  Grad.Rate  \n",
       "0      450      2200   70        78       18.1           12    7041         60  \n",
       "1      750      1500   29        30       12.2           16   10527         56  \n",
       "2      400      1165   53        66       12.9           30    8735         54  \n",
       "3      450       875   92        97        7.7           37   19016         59  \n",
       "4      800      1500   76        72       11.9            2   10922         15  \n",
       "..     ...       ...  ...       ...        ...          ...     ...        ...  \n",
       "772    500      1200   60        60       21.0           14    4469         40  \n",
       "773    600      1250   73        75       13.3           31    9189         83  \n",
       "774    617       781   67        75       14.4           20    8323         49  \n",
       "775    630      2115   96        96        5.8           49   40386         99  \n",
       "776    500      1250   75        75       18.1           28    4509         99  \n",
       "\n",
       "[777 rows x 19 columns]"
      ]
     },
     "execution_count": 87,
     "metadata": {},
     "output_type": "execute_result"
    }
   ],
   "source": [
    "df = pd.read_csv('College.csv')\n",
    "df['Private'] = df['Private'].map({'Yes': 1, 'No': 0})\n",
    "df.head(777)\n"
   ]
  },
  {
   "cell_type": "markdown",
   "id": "43c324c8",
   "metadata": {},
   "source": [
    "(a) Split the data set into a training set and a test set."
   ]
  },
  {
   "cell_type": "code",
   "execution_count": 88,
   "id": "3323bb13",
   "metadata": {},
   "outputs": [],
   "source": [
    "train , test = train_test_split(df, test_size = 0.7)\n",
    "X_test = train.drop(['Unnamed: 0','Apps'], axis=1)\n",
    "Y_test = train['Apps']\n",
    "X_train = test.drop(['Unnamed: 0','Apps'], axis=1)\n",
    "Y_train = test['Apps']"
   ]
  },
  {
   "cell_type": "markdown",
   "id": "0ad85ede",
   "metadata": {},
   "source": [
    "(b) Fit a linear model using least squares on the training set, and\n",
    "report the test error obtained."
   ]
  },
  {
   "cell_type": "code",
   "execution_count": 91,
   "id": "9d38cab5",
   "metadata": {},
   "outputs": [
    {
     "name": "stdout",
     "output_type": "stream",
     "text": [
      "Linear Regression Error is: 911222.6544301702\n"
     ]
    }
   ],
   "source": [
    "linreg = LinearRegression().fit(X_train,Y_train)\n",
    "linreg = linreg.predict(X_test)\n",
    "print(\"Linear Regression Error is: \" +str(mean_squared_error(Y_test, linreg)))"
   ]
  },
  {
   "cell_type": "markdown",
   "id": "25cf96e2",
   "metadata": {},
   "source": [
    "(c) Fit a ridge regression model on the training set, with $\\lambda$ chosen\n",
    "by cross-validation. Report the test error obtained."
   ]
  },
  {
   "cell_type": "code",
   "execution_count": 95,
   "id": "60c5578b",
   "metadata": {},
   "outputs": [
    {
     "name": "stdout",
     "output_type": "stream",
     "text": [
      "Ridge Regression Error is: 915414.7713454578\n"
     ]
    }
   ],
   "source": [
    "alphas = 10**np.linspace(10,-2,100)*0.5\n",
    "ridgereg = RidgeCV(alphas=alphas, store_cv_values=True).fit(X_train, Y_train)\n",
    "ridgereg = ridgereg.predict(X_test)\n",
    "print(\"Ridge Regression Error is: \" +str(mean_squared_error(Y_test, ridgereg)))"
   ]
  },
  {
   "cell_type": "markdown",
   "id": "e05c6eb5",
   "metadata": {},
   "source": [
    "(d) Fit a lasso model on the training set, with $\\lambda$ chosen by crossvalidation.\n",
    "Report the test error obtained, along with the number\n",
    "of non-zero coefficient estimates."
   ]
  },
  {
   "cell_type": "code",
   "execution_count": 97,
   "id": "6b0d153a",
   "metadata": {},
   "outputs": [
    {
     "name": "stdout",
     "output_type": "stream",
     "text": [
      "Lasso Regression Test Error: 911222.9563568984\n",
      "Number of Non-zero coefficients: 17\n"
     ]
    }
   ],
   "source": [
    "lassoreg = LassoCV(alphas=alphas).fit(X_train, Y_train)\n",
    "lassoreg2 = lassoreg.predict(X_test)\n",
    "print(\"Lasso Regression Test Error: \" +str(mean_squared_error(Y_test, lassoreg2)))\n",
    "print(\"Number of Non-zero coefficients: \" + str(len(lassoreg.coef_)))"
   ]
  },
  {
   "cell_type": "markdown",
   "id": "de2a6b45",
   "metadata": {},
   "source": [
    "(e) Comment on the results obtained. How accurately can we predict the number of college applications received? Is there a significant differnce among the test errors resulting from these three approaches?"
   ]
  },
  {
   "cell_type": "markdown",
   "id": "6f5e8347",
   "metadata": {},
   "source": [
    "Ridge regression has the least error value among the other, but there are no significant diffrence between the errors obtained from the three regressions."
   ]
  },
  {
   "cell_type": "markdown",
   "id": "c8aa1e63",
   "metadata": {},
   "source": [
    "(2) In this part, we will use logistic regression and KNN classifier on the *Weekly* dataset. "
   ]
  },
  {
   "cell_type": "code",
   "execution_count": 101,
   "id": "2cf8fb9b",
   "metadata": {},
   "outputs": [],
   "source": [
    "import pandas as pd\n",
    "import numpy as np\n",
    "import matplotlib.pyplot as plt\n",
    "import seaborn as sns\n",
    "from sklearn.linear_model import LogisticRegression\n",
    "from sklearn.metrics import accuracy_score\n",
    "import statsmodels.api as sm \n",
    "from patsy import dmatrices"
   ]
  },
  {
   "cell_type": "markdown",
   "id": "1a785acb",
   "metadata": {},
   "source": [
    "Load the 'Weekly.csv' data set."
   ]
  },
  {
   "cell_type": "code",
   "execution_count": 102,
   "id": "fca59139",
   "metadata": {},
   "outputs": [],
   "source": [
    "df = pd.read_csv('Weekly.csv')"
   ]
  },
  {
   "cell_type": "markdown",
   "id": "c1af6acd",
   "metadata": {},
   "source": [
    "(a) Produce some numerical and graphical summaries of the *Weekly*\n",
    "data. Do there appear to be any patterns?"
   ]
  },
  {
   "cell_type": "code",
   "execution_count": 100,
   "id": "7028aa4d",
   "metadata": {},
   "outputs": [
    {
     "data": {
      "text/plain": [
       "<Axes: >"
      ]
     },
     "execution_count": 100,
     "metadata": {},
     "output_type": "execute_result"
    },
    {
     "data": {
      "image/png": "[encoded data removed]",
      "text/plain": [
       "<Figure size 640x480 with 2 Axes>"
      ]
     },
     "metadata": {},
     "output_type": "display_data"
    }
   ],
   "source": [
    "df['Direction'] = df['Direction'].map({'Up': 1, 'Down': 0})\n",
    "df.head()\n",
    "summary = df.describe() \n",
    "summary = summary.transpose()\n",
    "summary.head()\n",
    "\n",
    "corr_result=df.corr()\n",
    "plt.show()\n",
    "sns.heatmap(corr_result)  "
   ]
  },
  {
   "cell_type": "markdown",
   "id": "bbf6a293",
   "metadata": {},
   "source": [
    "According to the plot, there seems to be a dual relation between variables; today and direction , volume and year."
   ]
  },
  {
   "cell_type": "markdown",
   "id": "ee7d7024",
   "metadata": {},
   "source": [
    "(b) Use the full data set to perform a logistic regression with\n",
    "Direction as the response and the five lag variables plus Volume\n",
    "as predictors. Use the summary function to print the results. Do\n",
    "any of the predictors appear to be statistically significant? If so,\n",
    "which ones?"
   ]
  },
  {
   "cell_type": "code",
   "execution_count": 104,
   "id": "3bcb4c12",
   "metadata": {},
   "outputs": [
    {
     "ename": "ValueError",
     "evalue": "Pandas data cast to numpy dtype of object. Check input data with np.asarray(data).",
     "output_type": "error",
     "traceback": [
      "\u001b[1;31m---------------------------------------------------------------------------\u001b[0m",
      "\u001b[1;31mValueError\u001b[0m                                Traceback (most recent call last)",
      "\u001b[1;32mc:\\Users\\Adde\\Desktop\\MVE137\\MVE137\\Assigment 5\\HW5final.ipynb Cell 24\u001b[0m line \u001b[0;36m3\n\u001b[0;32m      <a href='vscode-notebook-cell:/c%3A/Users/Adde/Desktop/MVE137/MVE137/Assigment%205/HW5final.ipynb#X32sZmlsZQ%3D%3D?line=0'>1</a>\u001b[0m X \u001b[39m=\u001b[39m df\u001b[39m.\u001b[39mdrop([\u001b[39m'\u001b[39m\u001b[39mYear\u001b[39m\u001b[39m'\u001b[39m,\u001b[39m'\u001b[39m\u001b[39mToday\u001b[39m\u001b[39m'\u001b[39m, \u001b[39m'\u001b[39m\u001b[39mDirection\u001b[39m\u001b[39m'\u001b[39m], axis\u001b[39m=\u001b[39m\u001b[39m1\u001b[39m)\n\u001b[0;32m      <a href='vscode-notebook-cell:/c%3A/Users/Adde/Desktop/MVE137/MVE137/Assigment%205/HW5final.ipynb#X32sZmlsZQ%3D%3D?line=1'>2</a>\u001b[0m y \u001b[39m=\u001b[39m df[\u001b[39m'\u001b[39m\u001b[39mDirection\u001b[39m\u001b[39m'\u001b[39m]\n\u001b[1;32m----> <a href='vscode-notebook-cell:/c%3A/Users/Adde/Desktop/MVE137/MVE137/Assigment%205/HW5final.ipynb#X32sZmlsZQ%3D%3D?line=2'>3</a>\u001b[0m logreg \u001b[39m=\u001b[39m sm\u001b[39m.\u001b[39;49mLogit(y, X)\u001b[39m.\u001b[39mfit()\n\u001b[0;32m      <a href='vscode-notebook-cell:/c%3A/Users/Adde/Desktop/MVE137/MVE137/Assigment%205/HW5final.ipynb#X32sZmlsZQ%3D%3D?line=3'>4</a>\u001b[0m \u001b[39m#view model summary\u001b[39;00m\n\u001b[0;32m      <a href='vscode-notebook-cell:/c%3A/Users/Adde/Desktop/MVE137/MVE137/Assigment%205/HW5final.ipynb#X32sZmlsZQ%3D%3D?line=4'>5</a>\u001b[0m \u001b[39mprint\u001b[39m(logreg\u001b[39m.\u001b[39msummary()) \n",
      "File \u001b[1;32m~\\AppData\\Local\\Packages\\PythonSoftwareFoundation.Python.3.11_qbz5n2kfra8p0\\LocalCache\\local-packages\\Python311\\site-packages\\statsmodels\\discrete\\discrete_model.py:475\u001b[0m, in \u001b[0;36mBinaryModel.__init__\u001b[1;34m(self, endog, exog, offset, check_rank, **kwargs)\u001b[0m\n\u001b[0;32m    472\u001b[0m \u001b[39mdef\u001b[39;00m \u001b[39m__init__\u001b[39m(\u001b[39mself\u001b[39m, endog, exog, offset\u001b[39m=\u001b[39m\u001b[39mNone\u001b[39;00m, check_rank\u001b[39m=\u001b[39m\u001b[39mTrue\u001b[39;00m, \u001b[39m*\u001b[39m\u001b[39m*\u001b[39mkwargs):\n\u001b[0;32m    473\u001b[0m     \u001b[39m# unconditional check, requires no extra kwargs added by subclasses\u001b[39;00m\n\u001b[0;32m    474\u001b[0m     \u001b[39mself\u001b[39m\u001b[39m.\u001b[39m_check_kwargs(kwargs)\n\u001b[1;32m--> 475\u001b[0m     \u001b[39msuper\u001b[39;49m()\u001b[39m.\u001b[39;49m\u001b[39m__init__\u001b[39;49m(endog, exog, offset\u001b[39m=\u001b[39;49moffset, check_rank\u001b[39m=\u001b[39;49mcheck_rank,\n\u001b[0;32m    476\u001b[0m                      \u001b[39m*\u001b[39;49m\u001b[39m*\u001b[39;49mkwargs)\n\u001b[0;32m    477\u001b[0m     \u001b[39mif\u001b[39;00m \u001b[39mnot\u001b[39;00m \u001b[39missubclass\u001b[39m(\u001b[39mself\u001b[39m\u001b[39m.\u001b[39m\u001b[39m__class__\u001b[39m, MultinomialModel):\n\u001b[0;32m    478\u001b[0m         \u001b[39mif\u001b[39;00m \u001b[39mnot\u001b[39;00m np\u001b[39m.\u001b[39mall((\u001b[39mself\u001b[39m\u001b[39m.\u001b[39mendog \u001b[39m>\u001b[39m\u001b[39m=\u001b[39m \u001b[39m0\u001b[39m) \u001b[39m&\u001b[39m (\u001b[39mself\u001b[39m\u001b[39m.\u001b[39mendog \u001b[39m<\u001b[39m\u001b[39m=\u001b[39m \u001b[39m1\u001b[39m)):\n",
      "File \u001b[1;32m~\\AppData\\Local\\Packages\\PythonSoftwareFoundation.Python.3.11_qbz5n2kfra8p0\\LocalCache\\local-packages\\Python311\\site-packages\\statsmodels\\discrete\\discrete_model.py:185\u001b[0m, in \u001b[0;36mDiscreteModel.__init__\u001b[1;34m(self, endog, exog, check_rank, **kwargs)\u001b[0m\n\u001b[0;32m    183\u001b[0m \u001b[39mdef\u001b[39;00m \u001b[39m__init__\u001b[39m(\u001b[39mself\u001b[39m, endog, exog, check_rank\u001b[39m=\u001b[39m\u001b[39mTrue\u001b[39;00m, \u001b[39m*\u001b[39m\u001b[39m*\u001b[39mkwargs):\n\u001b[0;32m    184\u001b[0m     \u001b[39mself\u001b[39m\u001b[39m.\u001b[39m_check_rank \u001b[39m=\u001b[39m check_rank\n\u001b[1;32m--> 185\u001b[0m     \u001b[39msuper\u001b[39;49m()\u001b[39m.\u001b[39;49m\u001b[39m__init__\u001b[39;49m(endog, exog, \u001b[39m*\u001b[39;49m\u001b[39m*\u001b[39;49mkwargs)\n\u001b[0;32m    186\u001b[0m     \u001b[39mself\u001b[39m\u001b[39m.\u001b[39mraise_on_perfect_prediction \u001b[39m=\u001b[39m \u001b[39mFalse\u001b[39;00m  \u001b[39m# keep for backwards compat\u001b[39;00m\n\u001b[0;32m    187\u001b[0m     \u001b[39mself\u001b[39m\u001b[39m.\u001b[39mk_extra \u001b[39m=\u001b[39m \u001b[39m0\u001b[39m\n",
      "File \u001b[1;32m~\\AppData\\Local\\Packages\\PythonSoftwareFoundation.Python.3.11_qbz5n2kfra8p0\\LocalCache\\local-packages\\Python311\\site-packages\\statsmodels\\base\\model.py:270\u001b[0m, in \u001b[0;36mLikelihoodModel.__init__\u001b[1;34m(self, endog, exog, **kwargs)\u001b[0m\n\u001b[0;32m    269\u001b[0m \u001b[39mdef\u001b[39;00m \u001b[39m__init__\u001b[39m(\u001b[39mself\u001b[39m, endog, exog\u001b[39m=\u001b[39m\u001b[39mNone\u001b[39;00m, \u001b[39m*\u001b[39m\u001b[39m*\u001b[39mkwargs):\n\u001b[1;32m--> 270\u001b[0m     \u001b[39msuper\u001b[39;49m()\u001b[39m.\u001b[39;49m\u001b[39m__init__\u001b[39;49m(endog, exog, \u001b[39m*\u001b[39;49m\u001b[39m*\u001b[39;49mkwargs)\n\u001b[0;32m    271\u001b[0m     \u001b[39mself\u001b[39m\u001b[39m.\u001b[39minitialize()\n",
      "File \u001b[1;32m~\\AppData\\Local\\Packages\\PythonSoftwareFoundation.Python.3.11_qbz5n2kfra8p0\\LocalCache\\local-packages\\Python311\\site-packages\\statsmodels\\base\\model.py:95\u001b[0m, in \u001b[0;36mModel.__init__\u001b[1;34m(self, endog, exog, **kwargs)\u001b[0m\n\u001b[0;32m     93\u001b[0m missing \u001b[39m=\u001b[39m kwargs\u001b[39m.\u001b[39mpop(\u001b[39m'\u001b[39m\u001b[39mmissing\u001b[39m\u001b[39m'\u001b[39m, \u001b[39m'\u001b[39m\u001b[39mnone\u001b[39m\u001b[39m'\u001b[39m)\n\u001b[0;32m     94\u001b[0m hasconst \u001b[39m=\u001b[39m kwargs\u001b[39m.\u001b[39mpop(\u001b[39m'\u001b[39m\u001b[39mhasconst\u001b[39m\u001b[39m'\u001b[39m, \u001b[39mNone\u001b[39;00m)\n\u001b[1;32m---> 95\u001b[0m \u001b[39mself\u001b[39m\u001b[39m.\u001b[39mdata \u001b[39m=\u001b[39m \u001b[39mself\u001b[39;49m\u001b[39m.\u001b[39;49m_handle_data(endog, exog, missing, hasconst,\n\u001b[0;32m     96\u001b[0m                               \u001b[39m*\u001b[39;49m\u001b[39m*\u001b[39;49mkwargs)\n\u001b[0;32m     97\u001b[0m \u001b[39mself\u001b[39m\u001b[39m.\u001b[39mk_constant \u001b[39m=\u001b[39m \u001b[39mself\u001b[39m\u001b[39m.\u001b[39mdata\u001b[39m.\u001b[39mk_constant\n\u001b[0;32m     98\u001b[0m \u001b[39mself\u001b[39m\u001b[39m.\u001b[39mexog \u001b[39m=\u001b[39m \u001b[39mself\u001b[39m\u001b[39m.\u001b[39mdata\u001b[39m.\u001b[39mexog\n",
      "File \u001b[1;32m~\\AppData\\Local\\Packages\\PythonSoftwareFoundation.Python.3.11_qbz5n2kfra8p0\\LocalCache\\local-packages\\Python311\\site-packages\\statsmodels\\base\\model.py:135\u001b[0m, in \u001b[0;36mModel._handle_data\u001b[1;34m(self, endog, exog, missing, hasconst, **kwargs)\u001b[0m\n\u001b[0;32m    134\u001b[0m \u001b[39mdef\u001b[39;00m \u001b[39m_handle_data\u001b[39m(\u001b[39mself\u001b[39m, endog, exog, missing, hasconst, \u001b[39m*\u001b[39m\u001b[39m*\u001b[39mkwargs):\n\u001b[1;32m--> 135\u001b[0m     data \u001b[39m=\u001b[39m handle_data(endog, exog, missing, hasconst, \u001b[39m*\u001b[39;49m\u001b[39m*\u001b[39;49mkwargs)\n\u001b[0;32m    136\u001b[0m     \u001b[39m# kwargs arrays could have changed, easier to just attach here\u001b[39;00m\n\u001b[0;32m    137\u001b[0m     \u001b[39mfor\u001b[39;00m key \u001b[39min\u001b[39;00m kwargs:\n",
      "File \u001b[1;32m~\\AppData\\Local\\Packages\\PythonSoftwareFoundation.Python.3.11_qbz5n2kfra8p0\\LocalCache\\local-packages\\Python311\\site-packages\\statsmodels\\base\\data.py:675\u001b[0m, in \u001b[0;36mhandle_data\u001b[1;34m(endog, exog, missing, hasconst, **kwargs)\u001b[0m\n\u001b[0;32m    672\u001b[0m     exog \u001b[39m=\u001b[39m np\u001b[39m.\u001b[39masarray(exog)\n\u001b[0;32m    674\u001b[0m klass \u001b[39m=\u001b[39m handle_data_class_factory(endog, exog)\n\u001b[1;32m--> 675\u001b[0m \u001b[39mreturn\u001b[39;00m klass(endog, exog\u001b[39m=\u001b[39;49mexog, missing\u001b[39m=\u001b[39;49mmissing, hasconst\u001b[39m=\u001b[39;49mhasconst,\n\u001b[0;32m    676\u001b[0m              \u001b[39m*\u001b[39;49m\u001b[39m*\u001b[39;49mkwargs)\n",
      "File \u001b[1;32m~\\AppData\\Local\\Packages\\PythonSoftwareFoundation.Python.3.11_qbz5n2kfra8p0\\LocalCache\\local-packages\\Python311\\site-packages\\statsmodels\\base\\data.py:84\u001b[0m, in \u001b[0;36mModelData.__init__\u001b[1;34m(self, endog, exog, missing, hasconst, **kwargs)\u001b[0m\n\u001b[0;32m     82\u001b[0m     \u001b[39mself\u001b[39m\u001b[39m.\u001b[39morig_endog \u001b[39m=\u001b[39m endog\n\u001b[0;32m     83\u001b[0m     \u001b[39mself\u001b[39m\u001b[39m.\u001b[39morig_exog \u001b[39m=\u001b[39m exog\n\u001b[1;32m---> 84\u001b[0m     \u001b[39mself\u001b[39m\u001b[39m.\u001b[39mendog, \u001b[39mself\u001b[39m\u001b[39m.\u001b[39mexog \u001b[39m=\u001b[39m \u001b[39mself\u001b[39;49m\u001b[39m.\u001b[39;49m_convert_endog_exog(endog, exog)\n\u001b[0;32m     86\u001b[0m \u001b[39mself\u001b[39m\u001b[39m.\u001b[39mconst_idx \u001b[39m=\u001b[39m \u001b[39mNone\u001b[39;00m\n\u001b[0;32m     87\u001b[0m \u001b[39mself\u001b[39m\u001b[39m.\u001b[39mk_constant \u001b[39m=\u001b[39m \u001b[39m0\u001b[39m\n",
      "File \u001b[1;32m~\\AppData\\Local\\Packages\\PythonSoftwareFoundation.Python.3.11_qbz5n2kfra8p0\\LocalCache\\local-packages\\Python311\\site-packages\\statsmodels\\base\\data.py:509\u001b[0m, in \u001b[0;36mPandasData._convert_endog_exog\u001b[1;34m(self, endog, exog)\u001b[0m\n\u001b[0;32m    507\u001b[0m exog \u001b[39m=\u001b[39m exog \u001b[39mif\u001b[39;00m exog \u001b[39mis\u001b[39;00m \u001b[39mNone\u001b[39;00m \u001b[39melse\u001b[39;00m np\u001b[39m.\u001b[39masarray(exog)\n\u001b[0;32m    508\u001b[0m \u001b[39mif\u001b[39;00m endog\u001b[39m.\u001b[39mdtype \u001b[39m==\u001b[39m \u001b[39mobject\u001b[39m \u001b[39mor\u001b[39;00m exog \u001b[39mis\u001b[39;00m \u001b[39mnot\u001b[39;00m \u001b[39mNone\u001b[39;00m \u001b[39mand\u001b[39;00m exog\u001b[39m.\u001b[39mdtype \u001b[39m==\u001b[39m \u001b[39mobject\u001b[39m:\n\u001b[1;32m--> 509\u001b[0m     \u001b[39mraise\u001b[39;00m \u001b[39mValueError\u001b[39;00m(\u001b[39m\"\u001b[39m\u001b[39mPandas data cast to numpy dtype of object. \u001b[39m\u001b[39m\"\u001b[39m\n\u001b[0;32m    510\u001b[0m                      \u001b[39m\"\u001b[39m\u001b[39mCheck input data with np.asarray(data).\u001b[39m\u001b[39m\"\u001b[39m)\n\u001b[0;32m    511\u001b[0m \u001b[39mreturn\u001b[39;00m \u001b[39msuper\u001b[39m(PandasData, \u001b[39mself\u001b[39m)\u001b[39m.\u001b[39m_convert_endog_exog(endog, exog)\n",
      "\u001b[1;31mValueError\u001b[0m: Pandas data cast to numpy dtype of object. Check input data with np.asarray(data)."
     ]
    }
   ],
   "source": [
    "X = df.drop(['Year','Today', 'Direction'], axis=1)\n",
    "y = df['Direction']\n",
    "logreg = sm.Logit(y, X).fit()\n",
    "#view model summary\n",
    "print(logreg.summary()) "
   ]
  },
  {
   "cell_type": "markdown",
   "id": "383e26f0",
   "metadata": {},
   "source": [
    "Lag2 is the most significant one."
   ]
  },
  {
   "cell_type": "markdown",
   "id": "1f6da8e1",
   "metadata": {},
   "source": [
    "(c) Fit the logistic regression model using a training data period\n",
    "from 1990 to 2008, with Lag2 as the only predictor. Compute the overall fraction of correct predictions\n",
    "for the held out data (that is, the data from 2009 and 2010)."
   ]
  },
  {
   "cell_type": "code",
   "execution_count": 105,
   "id": "2c28da43",
   "metadata": {},
   "outputs": [
    {
     "ename": "ValueError",
     "evalue": "Pandas data cast to numpy dtype of object. Check input data with np.asarray(data).",
     "output_type": "error",
     "traceback": [
      "\u001b[1;31m---------------------------------------------------------------------------\u001b[0m",
      "\u001b[1;31mValueError\u001b[0m                                Traceback (most recent call last)",
      "\u001b[1;32mc:\\Users\\Adde\\Desktop\\MVE137\\MVE137\\Assigment 5\\HW5final.ipynb Cell 27\u001b[0m line \u001b[0;36m8\n\u001b[0;32m      <a href='vscode-notebook-cell:/c%3A/Users/Adde/Desktop/MVE137/MVE137/Assigment%205/HW5final.ipynb#X35sZmlsZQ%3D%3D?line=4'>5</a>\u001b[0m X_test \u001b[39m=\u001b[39m Test[\u001b[39m'\u001b[39m\u001b[39mLag2\u001b[39m\u001b[39m'\u001b[39m]\n\u001b[0;32m      <a href='vscode-notebook-cell:/c%3A/Users/Adde/Desktop/MVE137/MVE137/Assigment%205/HW5final.ipynb#X35sZmlsZQ%3D%3D?line=5'>6</a>\u001b[0m Y_test \u001b[39m=\u001b[39m Test[\u001b[39m'\u001b[39m\u001b[39mDirection\u001b[39m\u001b[39m'\u001b[39m]\n\u001b[1;32m----> <a href='vscode-notebook-cell:/c%3A/Users/Adde/Desktop/MVE137/MVE137/Assigment%205/HW5final.ipynb#X35sZmlsZQ%3D%3D?line=7'>8</a>\u001b[0m logreg \u001b[39m=\u001b[39m sm\u001b[39m.\u001b[39;49mLogit(Y_train, X_train)\u001b[39m.\u001b[39mfit()\n\u001b[0;32m      <a href='vscode-notebook-cell:/c%3A/Users/Adde/Desktop/MVE137/MVE137/Assigment%205/HW5final.ipynb#X35sZmlsZQ%3D%3D?line=8'>9</a>\u001b[0m \u001b[39mprint\u001b[39m(logreg\u001b[39m.\u001b[39msummary())\n\u001b[0;32m     <a href='vscode-notebook-cell:/c%3A/Users/Adde/Desktop/MVE137/MVE137/Assigment%205/HW5final.ipynb#X35sZmlsZQ%3D%3D?line=9'>10</a>\u001b[0m logreg_test \u001b[39m=\u001b[39m logreg\u001b[39m.\u001b[39mpredict(X_test)\n",
      "File \u001b[1;32m~\\AppData\\Local\\Packages\\PythonSoftwareFoundation.Python.3.11_qbz5n2kfra8p0\\LocalCache\\local-packages\\Python311\\site-packages\\statsmodels\\discrete\\discrete_model.py:475\u001b[0m, in \u001b[0;36mBinaryModel.__init__\u001b[1;34m(self, endog, exog, offset, check_rank, **kwargs)\u001b[0m\n\u001b[0;32m    472\u001b[0m \u001b[39mdef\u001b[39;00m \u001b[39m__init__\u001b[39m(\u001b[39mself\u001b[39m, endog, exog, offset\u001b[39m=\u001b[39m\u001b[39mNone\u001b[39;00m, check_rank\u001b[39m=\u001b[39m\u001b[39mTrue\u001b[39;00m, \u001b[39m*\u001b[39m\u001b[39m*\u001b[39mkwargs):\n\u001b[0;32m    473\u001b[0m     \u001b[39m# unconditional check, requires no extra kwargs added by subclasses\u001b[39;00m\n\u001b[0;32m    474\u001b[0m     \u001b[39mself\u001b[39m\u001b[39m.\u001b[39m_check_kwargs(kwargs)\n\u001b[1;32m--> 475\u001b[0m     \u001b[39msuper\u001b[39;49m()\u001b[39m.\u001b[39;49m\u001b[39m__init__\u001b[39;49m(endog, exog, offset\u001b[39m=\u001b[39;49moffset, check_rank\u001b[39m=\u001b[39;49mcheck_rank,\n\u001b[0;32m    476\u001b[0m                      \u001b[39m*\u001b[39;49m\u001b[39m*\u001b[39;49mkwargs)\n\u001b[0;32m    477\u001b[0m     \u001b[39mif\u001b[39;00m \u001b[39mnot\u001b[39;00m \u001b[39missubclass\u001b[39m(\u001b[39mself\u001b[39m\u001b[39m.\u001b[39m\u001b[39m__class__\u001b[39m, MultinomialModel):\n\u001b[0;32m    478\u001b[0m         \u001b[39mif\u001b[39;00m \u001b[39mnot\u001b[39;00m np\u001b[39m.\u001b[39mall((\u001b[39mself\u001b[39m\u001b[39m.\u001b[39mendog \u001b[39m>\u001b[39m\u001b[39m=\u001b[39m \u001b[39m0\u001b[39m) \u001b[39m&\u001b[39m (\u001b[39mself\u001b[39m\u001b[39m.\u001b[39mendog \u001b[39m<\u001b[39m\u001b[39m=\u001b[39m \u001b[39m1\u001b[39m)):\n",
      "File \u001b[1;32m~\\AppData\\Local\\Packages\\PythonSoftwareFoundation.Python.3.11_qbz5n2kfra8p0\\LocalCache\\local-packages\\Python311\\site-packages\\statsmodels\\discrete\\discrete_model.py:185\u001b[0m, in \u001b[0;36mDiscreteModel.__init__\u001b[1;34m(self, endog, exog, check_rank, **kwargs)\u001b[0m\n\u001b[0;32m    183\u001b[0m \u001b[39mdef\u001b[39;00m \u001b[39m__init__\u001b[39m(\u001b[39mself\u001b[39m, endog, exog, check_rank\u001b[39m=\u001b[39m\u001b[39mTrue\u001b[39;00m, \u001b[39m*\u001b[39m\u001b[39m*\u001b[39mkwargs):\n\u001b[0;32m    184\u001b[0m     \u001b[39mself\u001b[39m\u001b[39m.\u001b[39m_check_rank \u001b[39m=\u001b[39m check_rank\n\u001b[1;32m--> 185\u001b[0m     \u001b[39msuper\u001b[39;49m()\u001b[39m.\u001b[39;49m\u001b[39m__init__\u001b[39;49m(endog, exog, \u001b[39m*\u001b[39;49m\u001b[39m*\u001b[39;49mkwargs)\n\u001b[0;32m    186\u001b[0m     \u001b[39mself\u001b[39m\u001b[39m.\u001b[39mraise_on_perfect_prediction \u001b[39m=\u001b[39m \u001b[39mFalse\u001b[39;00m  \u001b[39m# keep for backwards compat\u001b[39;00m\n\u001b[0;32m    187\u001b[0m     \u001b[39mself\u001b[39m\u001b[39m.\u001b[39mk_extra \u001b[39m=\u001b[39m \u001b[39m0\u001b[39m\n",
      "File \u001b[1;32m~\\AppData\\Local\\Packages\\PythonSoftwareFoundation.Python.3.11_qbz5n2kfra8p0\\LocalCache\\local-packages\\Python311\\site-packages\\statsmodels\\base\\model.py:270\u001b[0m, in \u001b[0;36mLikelihoodModel.__init__\u001b[1;34m(self, endog, exog, **kwargs)\u001b[0m\n\u001b[0;32m    269\u001b[0m \u001b[39mdef\u001b[39;00m \u001b[39m__init__\u001b[39m(\u001b[39mself\u001b[39m, endog, exog\u001b[39m=\u001b[39m\u001b[39mNone\u001b[39;00m, \u001b[39m*\u001b[39m\u001b[39m*\u001b[39mkwargs):\n\u001b[1;32m--> 270\u001b[0m     \u001b[39msuper\u001b[39;49m()\u001b[39m.\u001b[39;49m\u001b[39m__init__\u001b[39;49m(endog, exog, \u001b[39m*\u001b[39;49m\u001b[39m*\u001b[39;49mkwargs)\n\u001b[0;32m    271\u001b[0m     \u001b[39mself\u001b[39m\u001b[39m.\u001b[39minitialize()\n",
      "File \u001b[1;32m~\\AppData\\Local\\Packages\\PythonSoftwareFoundation.Python.3.11_qbz5n2kfra8p0\\LocalCache\\local-packages\\Python311\\site-packages\\statsmodels\\base\\model.py:95\u001b[0m, in \u001b[0;36mModel.__init__\u001b[1;34m(self, endog, exog, **kwargs)\u001b[0m\n\u001b[0;32m     93\u001b[0m missing \u001b[39m=\u001b[39m kwargs\u001b[39m.\u001b[39mpop(\u001b[39m'\u001b[39m\u001b[39mmissing\u001b[39m\u001b[39m'\u001b[39m, \u001b[39m'\u001b[39m\u001b[39mnone\u001b[39m\u001b[39m'\u001b[39m)\n\u001b[0;32m     94\u001b[0m hasconst \u001b[39m=\u001b[39m kwargs\u001b[39m.\u001b[39mpop(\u001b[39m'\u001b[39m\u001b[39mhasconst\u001b[39m\u001b[39m'\u001b[39m, \u001b[39mNone\u001b[39;00m)\n\u001b[1;32m---> 95\u001b[0m \u001b[39mself\u001b[39m\u001b[39m.\u001b[39mdata \u001b[39m=\u001b[39m \u001b[39mself\u001b[39;49m\u001b[39m.\u001b[39;49m_handle_data(endog, exog, missing, hasconst,\n\u001b[0;32m     96\u001b[0m                               \u001b[39m*\u001b[39;49m\u001b[39m*\u001b[39;49mkwargs)\n\u001b[0;32m     97\u001b[0m \u001b[39mself\u001b[39m\u001b[39m.\u001b[39mk_constant \u001b[39m=\u001b[39m \u001b[39mself\u001b[39m\u001b[39m.\u001b[39mdata\u001b[39m.\u001b[39mk_constant\n\u001b[0;32m     98\u001b[0m \u001b[39mself\u001b[39m\u001b[39m.\u001b[39mexog \u001b[39m=\u001b[39m \u001b[39mself\u001b[39m\u001b[39m.\u001b[39mdata\u001b[39m.\u001b[39mexog\n",
      "File \u001b[1;32m~\\AppData\\Local\\Packages\\PythonSoftwareFoundation.Python.3.11_qbz5n2kfra8p0\\LocalCache\\local-packages\\Python311\\site-packages\\statsmodels\\base\\model.py:135\u001b[0m, in \u001b[0;36mModel._handle_data\u001b[1;34m(self, endog, exog, missing, hasconst, **kwargs)\u001b[0m\n\u001b[0;32m    134\u001b[0m \u001b[39mdef\u001b[39;00m \u001b[39m_handle_data\u001b[39m(\u001b[39mself\u001b[39m, endog, exog, missing, hasconst, \u001b[39m*\u001b[39m\u001b[39m*\u001b[39mkwargs):\n\u001b[1;32m--> 135\u001b[0m     data \u001b[39m=\u001b[39m handle_data(endog, exog, missing, hasconst, \u001b[39m*\u001b[39;49m\u001b[39m*\u001b[39;49mkwargs)\n\u001b[0;32m    136\u001b[0m     \u001b[39m# kwargs arrays could have changed, easier to just attach here\u001b[39;00m\n\u001b[0;32m    137\u001b[0m     \u001b[39mfor\u001b[39;00m key \u001b[39min\u001b[39;00m kwargs:\n",
      "File \u001b[1;32m~\\AppData\\Local\\Packages\\PythonSoftwareFoundation.Python.3.11_qbz5n2kfra8p0\\LocalCache\\local-packages\\Python311\\site-packages\\statsmodels\\base\\data.py:675\u001b[0m, in \u001b[0;36mhandle_data\u001b[1;34m(endog, exog, missing, hasconst, **kwargs)\u001b[0m\n\u001b[0;32m    672\u001b[0m     exog \u001b[39m=\u001b[39m np\u001b[39m.\u001b[39masarray(exog)\n\u001b[0;32m    674\u001b[0m klass \u001b[39m=\u001b[39m handle_data_class_factory(endog, exog)\n\u001b[1;32m--> 675\u001b[0m \u001b[39mreturn\u001b[39;00m klass(endog, exog\u001b[39m=\u001b[39;49mexog, missing\u001b[39m=\u001b[39;49mmissing, hasconst\u001b[39m=\u001b[39;49mhasconst,\n\u001b[0;32m    676\u001b[0m              \u001b[39m*\u001b[39;49m\u001b[39m*\u001b[39;49mkwargs)\n",
      "File \u001b[1;32m~\\AppData\\Local\\Packages\\PythonSoftwareFoundation.Python.3.11_qbz5n2kfra8p0\\LocalCache\\local-packages\\Python311\\site-packages\\statsmodels\\base\\data.py:84\u001b[0m, in \u001b[0;36mModelData.__init__\u001b[1;34m(self, endog, exog, missing, hasconst, **kwargs)\u001b[0m\n\u001b[0;32m     82\u001b[0m     \u001b[39mself\u001b[39m\u001b[39m.\u001b[39morig_endog \u001b[39m=\u001b[39m endog\n\u001b[0;32m     83\u001b[0m     \u001b[39mself\u001b[39m\u001b[39m.\u001b[39morig_exog \u001b[39m=\u001b[39m exog\n\u001b[1;32m---> 84\u001b[0m     \u001b[39mself\u001b[39m\u001b[39m.\u001b[39mendog, \u001b[39mself\u001b[39m\u001b[39m.\u001b[39mexog \u001b[39m=\u001b[39m \u001b[39mself\u001b[39;49m\u001b[39m.\u001b[39;49m_convert_endog_exog(endog, exog)\n\u001b[0;32m     86\u001b[0m \u001b[39mself\u001b[39m\u001b[39m.\u001b[39mconst_idx \u001b[39m=\u001b[39m \u001b[39mNone\u001b[39;00m\n\u001b[0;32m     87\u001b[0m \u001b[39mself\u001b[39m\u001b[39m.\u001b[39mk_constant \u001b[39m=\u001b[39m \u001b[39m0\u001b[39m\n",
      "File \u001b[1;32m~\\AppData\\Local\\Packages\\PythonSoftwareFoundation.Python.3.11_qbz5n2kfra8p0\\LocalCache\\local-packages\\Python311\\site-packages\\statsmodels\\base\\data.py:509\u001b[0m, in \u001b[0;36mPandasData._convert_endog_exog\u001b[1;34m(self, endog, exog)\u001b[0m\n\u001b[0;32m    507\u001b[0m exog \u001b[39m=\u001b[39m exog \u001b[39mif\u001b[39;00m exog \u001b[39mis\u001b[39;00m \u001b[39mNone\u001b[39;00m \u001b[39melse\u001b[39;00m np\u001b[39m.\u001b[39masarray(exog)\n\u001b[0;32m    508\u001b[0m \u001b[39mif\u001b[39;00m endog\u001b[39m.\u001b[39mdtype \u001b[39m==\u001b[39m \u001b[39mobject\u001b[39m \u001b[39mor\u001b[39;00m exog \u001b[39mis\u001b[39;00m \u001b[39mnot\u001b[39;00m \u001b[39mNone\u001b[39;00m \u001b[39mand\u001b[39;00m exog\u001b[39m.\u001b[39mdtype \u001b[39m==\u001b[39m \u001b[39mobject\u001b[39m:\n\u001b[1;32m--> 509\u001b[0m     \u001b[39mraise\u001b[39;00m \u001b[39mValueError\u001b[39;00m(\u001b[39m\"\u001b[39m\u001b[39mPandas data cast to numpy dtype of object. \u001b[39m\u001b[39m\"\u001b[39m\n\u001b[0;32m    510\u001b[0m                      \u001b[39m\"\u001b[39m\u001b[39mCheck input data with np.asarray(data).\u001b[39m\u001b[39m\"\u001b[39m)\n\u001b[0;32m    511\u001b[0m \u001b[39mreturn\u001b[39;00m \u001b[39msuper\u001b[39m(PandasData, \u001b[39mself\u001b[39m)\u001b[39m.\u001b[39m_convert_endog_exog(endog, exog)\n",
      "\u001b[1;31mValueError\u001b[0m: Pandas data cast to numpy dtype of object. Check input data with np.asarray(data)."
     ]
    }
   ],
   "source": [
    "Train = df[df['Year'] < 2009]\n",
    "Test = df[df['Year'] > 2008]\n",
    "X_train = Train['Lag2']\n",
    "Y_train = Train['Direction']\n",
    "X_test = Test['Lag2']\n",
    "Y_test = Test['Direction']\n",
    "\n",
    "logreg = sm.Logit(Y_train, X_train).fit()\n",
    "print(logreg.summary())\n",
    "logreg_test = logreg.predict(X_test)\n",
    "logreg_test = round(logreg_test)\n",
    "\n",
    "comparison=abs(logreg_test-Y_test)\n",
    "result=1 - (np.sum(comparison)/len(Y_test))"
   ]
  },
  {
   "cell_type": "markdown",
   "id": "0dd2c54e",
   "metadata": {},
   "source": [
    "(d) Repeat (c) using KNN classifier with *K*=1 and *K*=10."
   ]
  },
  {
   "cell_type": "code",
   "execution_count": 75,
   "id": "e1abbc7f",
   "metadata": {},
   "outputs": [
    {
     "name": "stdout",
     "output_type": "stream",
     "text": [
      "Overall fraction of correct predictions value for k=1 is 0.5096153846153846\n",
      "Overall fraction of correct predictions value for k=10 is 0.5326923076923078\n"
     ]
    }
   ],
   "source": [
    "from sklearn.neighbors import KNeighborsRegressor\n",
    "X_train = np.array(X_train).reshape(-1,1)\n",
    "Y_train = np.array(Y_train).reshape(-1,1)\n",
    "X_test = np.array(X_test).reshape(-1,1)\n",
    "Y_test = np.array(Y_test).reshape(-1,1)\n",
    "\n",
    "knn_model = KNeighborsRegressor(n_neighbors = 1)\n",
    "knn_model.fit(X_train, Y_train)  \n",
    "test_preds=knn_model.predict(X_test) \n",
    "comparison=abs(test_preds-Y_test)\n",
    "result=1 - (np.sum(comparison)/len(Y_test))\n",
    "print('Overall fraction of correct predictions value for k=1 is', result)\n",
    "\n",
    "knn_model = KNeighborsRegressor(n_neighbors = 10)\n",
    "knn_model.fit(X_train, Y_train)  \n",
    "test_preds=knn_model.predict(X_test) \n",
    "comparison=abs(test_preds-Y_test)\n",
    "result=1 - (np.sum(comparison)/len(Y_test))\n",
    "print('Overall fraction of correct predictions value for k=10 is', result)"
   ]
  }
 ],
 "metadata": {
  "kernelspec": {
   "display_name": "Python 3 (ipykernel)",
   "language": "python",
   "name": "python3"
  },
  "language_info": {
   "codemirror_mode": {
    "name": "ipython",
    "version": 3
   },
   "file_extension": ".py",
   "mimetype": "text/x-python",
   "name": "python",
   "nbconvert_exporter": "python",
   "pygments_lexer": "ipython3",
   "version": "3.11.6"
  },
  "vscode": {
   "interpreter": {
    "hash": "26de051ba29f2982a8de78e945f0abaf191376122a1563185a90213a26c5da77"
   }
  }
 },
 "nbformat": 4,
 "nbformat_minor": 5
}
