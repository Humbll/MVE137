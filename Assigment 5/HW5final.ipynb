{
 "cells": [
  {
   "cell_type": "markdown",
   "id": "33cee4e9",
   "metadata": {},
   "source": [
    "**Homework 5**"
   ]
  },
  {
   "cell_type": "markdown",
   "id": "ede52b5b",
   "metadata": {},
   "source": [
    "(1) In this part, we will predict the number of applications received\n",
    "using the other variables in the $\\it{College}$ data set."
   ]
  },
  {
   "cell_type": "code",
   "execution_count": 1,
   "id": "ea061e3f",
   "metadata": {},
   "outputs": [],
   "source": [
    "import numpy as np\n",
    "import pandas as pd\n",
    "from sklearn.model_selection import train_test_split\n",
    "from sklearn.linear_model import LinearRegression\n",
    "from sklearn.linear_model import RidgeCV, LassoCV\n",
    "from sklearn import preprocessing\n",
    "from sklearn.metrics import mean_squared_error"
   ]
  },
  {
   "cell_type": "markdown",
   "id": "9bb81279",
   "metadata": {},
   "source": [
    "Load the 'College.csv' data set"
   ]
  },
  {
   "cell_type": "code",
   "execution_count": 20,
   "id": "39901b35",
   "metadata": {},
   "outputs": [],
   "source": [
    "df = pd.read_csv('College.csv')\n",
    "df['Private'] = df['Private'].map({'Yes': 1, 'No': 0})\n",
    "\n"
   ]
  },
  {
   "cell_type": "markdown",
   "id": "43c324c8",
   "metadata": {},
   "source": [
    "(a) Split the data set into a training set and a test set."
   ]
  },
  {
   "cell_type": "code",
   "execution_count": 33,
   "id": "3323bb13",
   "metadata": {},
   "outputs": [],
   "source": [
    "train , test = train_test_split(df, test_size = 0.7)\n",
    "X_test = train.drop(['Unnamed: 0','Apps'], axis=1)\n",
    "Y_test = train['Apps']\n",
    "X_train = test.drop(['Unnamed: 0','Apps'], axis=1)\n",
    "Y_train = test['Apps']"
   ]
  },
  {
   "cell_type": "markdown",
   "id": "0ad85ede",
   "metadata": {},
   "source": [
    "(b) Fit a linear model using least squares on the training set, and\n",
    "report the test error obtained."
   ]
  },
  {
   "cell_type": "code",
   "execution_count": 54,
   "id": "9d38cab5",
   "metadata": {},
   "outputs": [
    {
     "name": "stdout",
     "output_type": "stream",
     "text": [
      "Linear Regression Error is: 0.23993696811197654\n"
     ]
    },
    {
     "ename": "AttributeError",
     "evalue": "'numpy.ndarray' object has no attribute 'score'",
     "output_type": "error",
     "traceback": [
      "\u001b[1;31m---------------------------------------------------------------------------\u001b[0m",
      "\u001b[1;31mAttributeError\u001b[0m                            Traceback (most recent call last)",
      "\u001b[1;32mc:\\Users\\Adde\\Desktop\\MVE137\\MVE137\\Assigment 5\\HW5final.ipynb Cell 9\u001b[0m line \u001b[0;36m4\n\u001b[0;32m      <a href='vscode-notebook-cell:/c%3A/Users/Adde/Desktop/MVE137/MVE137/Assigment%205/HW5final.ipynb#X11sZmlsZQ%3D%3D?line=1'>2</a>\u001b[0m linreg \u001b[39m=\u001b[39m linreg\u001b[39m.\u001b[39mpredict(X_test)\n\u001b[0;32m      <a href='vscode-notebook-cell:/c%3A/Users/Adde/Desktop/MVE137/MVE137/Assigment%205/HW5final.ipynb#X11sZmlsZQ%3D%3D?line=2'>3</a>\u001b[0m \u001b[39mprint\u001b[39m(\u001b[39m\"\u001b[39m\u001b[39mLinear Regression Error is: \u001b[39m\u001b[39m\"\u001b[39m \u001b[39m+\u001b[39m\u001b[39mstr\u001b[39m(mean_squared_error(Y_test, linreg)))\n\u001b[1;32m----> <a href='vscode-notebook-cell:/c%3A/Users/Adde/Desktop/MVE137/MVE137/Assigment%205/HW5final.ipynb#X11sZmlsZQ%3D%3D?line=3'>4</a>\u001b[0m linreg\u001b[39m.\u001b[39;49mscore(X_test, Y_test)\n",
      "\u001b[1;31mAttributeError\u001b[0m: 'numpy.ndarray' object has no attribute 'score'"
     ]
    }
   ],
   "source": [
    "linreg = LinearRegression().fit(X_train,Y_train)\n",
    "linreg = linreg.predict(X_test)\n",
    "print(\"Linear Regression Error is: \" +str(mean_squared_error(Y_test, linreg)))"
   ]
  },
  {
   "cell_type": "markdown",
   "id": "25cf96e2",
   "metadata": {},
   "source": [
    "(c) Fit a ridge regression model on the training set, with $\\lambda$ chosen\n",
    "by cross-validation. Report the test error obtained."
   ]
  },
  {
   "cell_type": "code",
   "execution_count": 23,
   "id": "60c5578b",
   "metadata": {},
   "outputs": [
    {
     "name": "stdout",
     "output_type": "stream",
     "text": [
      "Ridge Regression Error is: 1110584.1349723653\n"
     ]
    }
   ],
   "source": [
    "alphas = 10**np.linspace(10,-2,100)*0.5\n",
    "ridgereg = RidgeCV(alphas=alphas, store_cv_values=True).fit(X_train, Y_train)\n",
    "ridgereg = ridgereg.predict(X_test)\n",
    "print(\"Ridge Regression Error is: \" +str(mean_squared_error(Y_test, ridgereg)))"
   ]
  },
  {
   "cell_type": "markdown",
   "id": "e05c6eb5",
   "metadata": {},
   "source": [
    "(d) Fit a lasso model on the training set, with $\\lambda$ chosen by crossvalidation.\n",
    "Report the test error obtained, along with the number\n",
    "of non-zero coefficient estimates."
   ]
  },
  {
   "cell_type": "code",
   "execution_count": 24,
   "id": "6b0d153a",
   "metadata": {},
   "outputs": [
    {
     "name": "stdout",
     "output_type": "stream",
     "text": [
      "Lasso Regression Test Error: 1146125.264312102\n",
      "Number of Non-zero coefficients: 17\n"
     ]
    }
   ],
   "source": [
    "lassoreg = LassoCV(alphas=alphas).fit(X_train, Y_train)\n",
    "lassoreg2 = lassoreg.predict(X_test)\n",
    "print(\"Lasso Regression Test Error: \" +str(mean_squared_error(Y_test, lassoreg2)))\n",
    "print(\"Number of Non-zero coefficients: \" + str(len(lassoreg.coef_)))"
   ]
  },
  {
   "cell_type": "markdown",
   "id": "de2a6b45",
   "metadata": {},
   "source": [
    "(e) Comment on the results obtained. How accurately can we predict the number of college applications received? Is there a significant differnce among the test errors resulting from these three approaches?"
   ]
  },
  {
   "cell_type": "markdown",
   "id": "6f5e8347",
   "metadata": {},
   "source": [
    "Ridge regression has the least error value among the other methods, but there are no significant diffrence between the errors obtained."
   ]
  },
  {
   "cell_type": "markdown",
   "id": "c8aa1e63",
   "metadata": {},
   "source": [
    "(2) In this part, we will use logistic regression and KNN classifier on the *Weekly* dataset. "
   ]
  },
  {
   "cell_type": "code",
   "execution_count": 25,
   "id": "2cf8fb9b",
   "metadata": {},
   "outputs": [],
   "source": [
    "import pandas as pd\n",
    "import numpy as np\n",
    "import matplotlib.pyplot as plt\n",
    "import seaborn as sns\n",
    "from sklearn.linear_model import LogisticRegression\n",
    "from sklearn.metrics import accuracy_score\n",
    "import statsmodels.api as sm \n",
    "from patsy import dmatrices"
   ]
  },
  {
   "cell_type": "markdown",
   "id": "1a785acb",
   "metadata": {},
   "source": [
    "Load the 'Weekly.csv' data set."
   ]
  },
  {
   "cell_type": "code",
   "execution_count": 26,
   "id": "fca59139",
   "metadata": {},
   "outputs": [],
   "source": [
    "df = pd.read_csv('Weekly.csv')"
   ]
  },
  {
   "cell_type": "markdown",
   "id": "c1af6acd",
   "metadata": {},
   "source": [
    "(a) Produce some numerical and graphical summaries of the *Weekly*\n",
    "data. Do there appear to be any patterns?"
   ]
  },
  {
   "cell_type": "code",
   "execution_count": 27,
   "id": "7028aa4d",
   "metadata": {},
   "outputs": [
    {
     "data": {
      "text/plain": [
       "<Axes: >"
      ]
     },
     "execution_count": 27,
     "metadata": {},
     "output_type": "execute_result"
    },
    {
     "data": {
      "image/png": "[encoded data removed]",
      "text/plain": [
       "<Figure size 640x480 with 2 Axes>"
      ]
     },
     "metadata": {},
     "output_type": "display_data"
    }
   ],
   "source": [
    "df['Direction'] = df['Direction'].map({'Up': 1, 'Down': 0})\n",
    "df.head()\n",
    "summary = df.describe() \n",
    "summary = summary.transpose()\n",
    "summary.head()\n",
    "\n",
    "corr_result=df.corr()\n",
    "plt.show()\n",
    "sns.heatmap(corr_result)  "
   ]
  },
  {
   "cell_type": "markdown",
   "id": "bbf6a293",
   "metadata": {},
   "source": [
    "According to the plot, there seems to be a dual relation between variables; today and direction , volume and year."
   ]
  },
  {
   "cell_type": "markdown",
   "id": "ee7d7024",
   "metadata": {},
   "source": [
    "(b) Use the full data set to perform a logistic regression with\n",
    "Direction as the response and the five lag variables plus Volume\n",
    "as predictors. Use the summary function to print the results. Do\n",
    "any of the predictors appear to be statistically significant? If so,\n",
    "which ones?"
   ]
  },
  {
   "cell_type": "code",
   "execution_count": 38,
   "id": "3bcb4c12",
   "metadata": {},
   "outputs": [
    {
     "name": "stdout",
     "output_type": "stream",
     "text": [
      "Optimization terminated successfully.\n",
      "         Current function value: 0.686896\n",
      "         Iterations 4\n",
      "                           Logit Regression Results                           \n",
      "==============================================================================\n",
      "Dep. Variable:              Direction   No. Observations:                 1089\n",
      "Model:                          Logit   Df Residuals:                     1083\n",
      "Method:                           MLE   Df Model:                            5\n",
      "Date:                Sun, 01 Oct 2023   Pseudo R-squ.:               9.505e-05\n",
      "Time:                        19:35:04   Log-Likelihood:                -748.03\n",
      "converged:                       True   LL-Null:                       -748.10\n",
      "Covariance Type:            nonrobust   LLR p-value:                    0.9996\n",
      "==============================================================================\n",
      "                 coef    std err          z      P>|z|      [0.025      0.975]\n",
      "------------------------------------------------------------------------------\n",
      "Lag1          -0.0327      0.026     -1.250      0.211      -0.084       0.019\n",
      "Lag2           0.0682      0.027      2.556      0.011       0.016       0.120\n",
      "Lag3          -0.0081      0.026     -0.306      0.759      -0.060       0.044\n",
      "Lag4          -0.0194      0.026     -0.740      0.459      -0.071       0.032\n",
      "Lag5          -0.0069      0.026     -0.261      0.794      -0.058       0.045\n",
      "Volume         0.0569      0.027      2.125      0.034       0.004       0.109\n",
      "==============================================================================\n"
     ]
    }
   ],
   "source": [
    "X = df.drop(['Year','Today', 'Direction'], axis=1)\n",
    "y = df['Direction']\n",
    "logreg = sm.Logit(y, X).fit()\n",
    "#view model summary\n",
    "print(logreg.summary()) "
   ]
  },
  {
   "cell_type": "markdown",
   "id": "383e26f0",
   "metadata": {},
   "source": [
    "Lag2 is the most significant one."
   ]
  },
  {
   "cell_type": "markdown",
   "id": "1f6da8e1",
   "metadata": {},
   "source": [
    "(c) Fit the logistic regression model using a training data period\n",
    "from 1990 to 2008, with Lag2 as the only predictor. Compute the overall fraction of correct predictions\n",
    "for the held out data (that is, the data from 2009 and 2010)."
   ]
  },
  {
   "cell_type": "code",
   "execution_count": 41,
   "id": "2c28da43",
   "metadata": {},
   "outputs": [
    {
     "name": "stdout",
     "output_type": "stream",
     "text": [
      "Optimization terminated successfully.\n",
      "         Current function value: 0.690654\n",
      "         Iterations 4\n",
      "                           Logit Regression Results                           \n",
      "==============================================================================\n",
      "Dep. Variable:              Direction   No. Observations:                  985\n",
      "Model:                          Logit   Df Residuals:                      984\n",
      "Method:                           MLE   Df Model:                            0\n",
      "Date:                Sun, 01 Oct 2023   Pseudo R-squ.:               -0.004340\n",
      "Time:                        19:35:10   Log-Likelihood:                -680.29\n",
      "converged:                       True   LL-Null:                       -677.35\n",
      "Covariance Type:            nonrobust   LLR p-value:                       nan\n",
      "==============================================================================\n",
      "                 coef    std err          z      P>|z|      [0.025      0.975]\n",
      "------------------------------------------------------------------------------\n",
      "Lag2           0.0629      0.029      2.192      0.028       0.007       0.119\n",
      "==============================================================================\n"
     ]
    }
   ],
   "source": [
    "Train = df[df['Year'] < 2009]\n",
    "Test = df[df['Year'] > 2008]\n",
    "X_train = Train['Lag2']\n",
    "Y_train = Train['Direction']\n",
    "X_test = Test['Lag2']\n",
    "Y_test = Test['Direction']\n",
    "\n",
    "logreg = sm.Logit(Y_train, X_train).fit()\n",
    "print(logreg.summary())\n",
    "logreg_test = logreg.predict(X_test)\n",
    "logreg_test = round(logreg_test)\n",
    "\n",
    "comparison=abs(logreg_test-Y_test)\n",
    "result=1 - (np.sum(comparison)/len(Y_test))"
   ]
  },
  {
   "cell_type": "markdown",
   "id": "0dd2c54e",
   "metadata": {},
   "source": [
    "(d) Repeat (c) using KNN classifier with *K*=1 and *K*=10."
   ]
  },
  {
   "cell_type": "code",
   "execution_count": 42,
   "id": "e1abbc7f",
   "metadata": {},
   "outputs": [
    {
     "name": "stdout",
     "output_type": "stream",
     "text": [
      "Overall fraction of correct predictions value for k=1 is 0.5096153846153846\n",
      "Overall fraction of correct predictions value for k=10 is 0.5326923076923078\n"
     ]
    }
   ],
   "source": [
    "from sklearn.neighbors import KNeighborsRegressor\n",
    "X_train = np.array(X_train).reshape(-1,1)\n",
    "Y_train = np.array(Y_train).reshape(-1,1)\n",
    "X_test = np.array(X_test).reshape(-1,1)\n",
    "Y_test = np.array(Y_test).reshape(-1,1)\n",
    "\n",
    "knn_model = KNeighborsRegressor(n_neighbors = 1)\n",
    "knn_model.fit(X_train, Y_train)  \n",
    "test_preds=knn_model.predict(X_test) \n",
    "comparison=abs(test_preds-Y_test)\n",
    "result=1 - (np.sum(comparison)/len(Y_test))\n",
    "print('Overall fraction of correct predictions value for k=1 is', result)\n",
    "\n",
    "knn_model = KNeighborsRegressor(n_neighbors = 10)\n",
    "knn_model.fit(X_train, Y_train)  \n",
    "test_preds=knn_model.predict(X_test) \n",
    "comparison=abs(test_preds-Y_test)\n",
    "result=1 - (np.sum(comparison)/len(Y_test))\n",
    "print('Overall fraction of correct predictions value for k=10 is', result)"
   ]
  }
 ],
 "metadata": {
  "kernelspec": {
   "display_name": "Python 3 (ipykernel)",
   "language": "python",
   "name": "python3"
  },
  "language_info": {
   "codemirror_mode": {
    "name": "ipython",
    "version": 3
   },
   "file_extension": ".py",
   "mimetype": "text/x-python",
   "name": "python",
   "nbconvert_exporter": "python",
   "pygments_lexer": "ipython3",
   "version": "3.11.5"
  },
  "vscode": {
   "interpreter": {
    "hash": "26de051ba29f2982a8de78e945f0abaf191376122a1563185a90213a26c5da77"
   }
  }
 },
 "nbformat": 4,
 "nbformat_minor": 5
}
