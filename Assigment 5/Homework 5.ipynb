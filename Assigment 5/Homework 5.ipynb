{
 "cells": [
  {
   "cell_type": "markdown",
   "id": "33cee4e9",
   "metadata": {},
   "source": [
    "**Homework 5**"
   ]
  },
  {
   "cell_type": "markdown",
   "id": "ede52b5b",
   "metadata": {},
   "source": [
    "(1) In this part, we will predict the number of applications received\n",
    "using the other variables in the $\\it{College}$ data set."
   ]
  },
  {
   "cell_type": "code",
   "execution_count": 8,
   "id": "ea061e3f",
   "metadata": {},
   "outputs": [],
   "source": [
    "import numpy as np\n",
    "import pandas as pd\n",
    "from sklearn.model_selection import train_test_split\n",
    "from sklearn.linear_model import LinearRegression\n",
    "from sklearn.linear_model import RidgeCV, LassoCV\n",
    "from sklearn import preprocessing"
   ]
  },
  {
   "cell_type": "markdown",
   "id": "9bb81279",
   "metadata": {},
   "source": [
    "Load the 'College.csv' data set"
   ]
  },
  {
   "cell_type": "code",
   "execution_count": 4,
   "id": "39901b35",
   "metadata": {},
   "outputs": [],
   "source": [
    "#df = pd.read_csv('..')\n",
    "#load the 'College.csv' file here"
   ]
  },
  {
   "cell_type": "markdown",
   "id": "43c324c8",
   "metadata": {},
   "source": [
    "(a) Split the data set into a training set and a test set."
   ]
  },
  {
   "cell_type": "code",
   "execution_count": null,
   "id": "3323bb13",
   "metadata": {},
   "outputs": [],
   "source": []
  },
  {
   "cell_type": "markdown",
   "id": "0ad85ede",
   "metadata": {},
   "source": [
    "(b) Fit a linear model using least squares on the training set, and\n",
    "report the test error obtained."
   ]
  },
  {
   "cell_type": "code",
   "execution_count": null,
   "id": "9d38cab5",
   "metadata": {},
   "outputs": [],
   "source": []
  },
  {
   "cell_type": "markdown",
   "id": "25cf96e2",
   "metadata": {},
   "source": [
    "(c) Fit a ridge regression model on the training set, with $\\lambda$ chosen\n",
    "by cross-validation. Report the test error obtained."
   ]
  },
  {
   "cell_type": "code",
   "execution_count": null,
   "id": "60c5578b",
   "metadata": {},
   "outputs": [],
   "source": []
  },
  {
   "cell_type": "markdown",
   "id": "e05c6eb5",
   "metadata": {},
   "source": [
    "(d) Fit a lasso model on the training set, with $\\lambda$ chosen by crossvalidation.\n",
    "Report the test error obtained, along with the number\n",
    "of non-zero coefficient estimates."
   ]
  },
  {
   "cell_type": "code",
   "execution_count": null,
   "id": "6b0d153a",
   "metadata": {},
   "outputs": [],
   "source": []
  },
  {
   "cell_type": "markdown",
   "id": "de2a6b45",
   "metadata": {},
   "source": [
    "(e) Comment on the results obtained. How accurately can we predict the number of college applications received? Is there a significant differnce among the test errors resulting from these three approaches?"
   ]
  },
  {
   "cell_type": "code",
   "execution_count": null,
   "id": "440bb6b5",
   "metadata": {},
   "outputs": [],
   "source": []
  },
  {
   "cell_type": "markdown",
   "id": "c8aa1e63",
   "metadata": {},
   "source": [
    "(2) In this part, we will use logistic regression and KNN classifier on the *Weekly* dataset. "
   ]
  },
  {
   "cell_type": "code",
   "execution_count": 11,
   "id": "2cf8fb9b",
   "metadata": {},
   "outputs": [],
   "source": [
    "import pandas as pd\n",
    "import numpy as np\n",
    "import matplotlib.pyplot as plt\n",
    "import seaborn as sns\n",
    "from sklearn.linear_model import LogisticRegression\n",
    "from sklearn.metrics import accuracy_score\n",
    "\n",
    "import statsmodels.api as sm \n",
    "from patsy import dmatrices\n",
    "\n",
    "%matplotlib inline"
   ]
  },
  {
   "cell_type": "markdown",
   "id": "1a785acb",
   "metadata": {},
   "source": [
    "Load the 'Weekly.csv' data set."
   ]
  },
  {
   "cell_type": "code",
   "execution_count": 10,
   "id": "fca59139",
   "metadata": {},
   "outputs": [],
   "source": [
    "#df = pd.read_csv('..')\n",
    "#load the 'Weekly.csv' file here"
   ]
  },
  {
   "cell_type": "markdown",
   "id": "c1af6acd",
   "metadata": {},
   "source": [
    "(a) Produce some numerical and graphical summaries of the *Weekly*\n",
    "data. Do there appear to be any patterns?"
   ]
  },
  {
   "cell_type": "code",
   "execution_count": null,
   "id": "7028aa4d",
   "metadata": {},
   "outputs": [],
   "source": []
  },
  {
   "cell_type": "markdown",
   "id": "ee7d7024",
   "metadata": {},
   "source": [
    "(b) Use the full data set to perform a logistic regression with\n",
    "Direction as the response and the five lag variables plus Volume\n",
    "as predictors. Use the summary function to print the results. Do\n",
    "any of the predictors appear to be statistically significant? If so,\n",
    "which ones?"
   ]
  },
  {
   "cell_type": "code",
   "execution_count": null,
   "id": "3bcb4c12",
   "metadata": {},
   "outputs": [],
   "source": []
  },
  {
   "cell_type": "markdown",
   "id": "1f6da8e1",
   "metadata": {},
   "source": [
    "(c) Fit the logistic regression model using a training data period\n",
    "from 1990 to 2008, with Lag2 as the only predictor. Compute the overall fraction of correct predictions\n",
    "for the held out data (that is, the data from 2009 and 2010)."
   ]
  },
  {
   "cell_type": "code",
   "execution_count": null,
   "id": "2c28da43",
   "metadata": {},
   "outputs": [],
   "source": []
  },
  {
   "cell_type": "markdown",
   "id": "0dd2c54e",
   "metadata": {},
   "source": [
    "(d) Repeat (c) using KNN classifier with *K*=1 and *K*=10."
   ]
  },
  {
   "cell_type": "code",
   "execution_count": null,
   "id": "e1abbc7f",
   "metadata": {},
   "outputs": [],
   "source": []
  }
 ],
 "metadata": {
  "kernelspec": {
   "display_name": "Python 3 (ipykernel)",
   "language": "python",
   "name": "python3"
  },
  "language_info": {
   "codemirror_mode": {
    "name": "ipython",
    "version": 3
   },
   "file_extension": ".py",
   "mimetype": "text/x-python",
   "name": "python",
   "nbconvert_exporter": "python",
   "pygments_lexer": "ipython3",
   "version": "3.9.6"
  }
 },
 "nbformat": 4,
 "nbformat_minor": 5
}
