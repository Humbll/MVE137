{
 "cells": [
  {
   "cell_type": "markdown",
   "id": "61f0823c",
   "metadata": {},
   "source": [
    "**Home work 6**"
   ]
  },
  {
   "cell_type": "markdown",
   "id": "ca4fd069",
   "metadata": {},
   "source": [
    "In this exercise we will perform cross-validation on a simulated data set.  (5 pts)      "
   ]
  },
  {
   "cell_type": "code",
   "execution_count": 6,
   "id": "587ecff7",
   "metadata": {},
   "outputs": [],
   "source": [
    "import pandas as pd\n",
    "import numpy as np\n",
    "import math\n",
    "import matplotlib.pyplot as plt\n",
    "from sklearn.model_selection import LeaveOneOut\n",
    "from sklearn.linear_model import LinearRegression\n",
    "from sklearn.preprocessing import PolynomialFeatures\n",
    "from sklearn.pipeline import Pipeline\n",
    "from sklearn.metrics import mean_squared_error\n",
    "import statsmodels.api as sm \n",
    "%matplotlib inline\n"
   ]
  },
  {
   "cell_type": "markdown",
   "id": "e669aca0",
   "metadata": {},
   "source": [
    "(a) Follow the below steps and generate $y$ from $x$ and $\\epsilon$."
   ]
  },
  {
   "cell_type": "markdown",
   "id": "d68ce929",
   "metadata": {},
   "source": [
    "* Using the random.normal() function, create a vector,  𝑥 , containing 100 observations drawn from a N(0, 1) distribution. "
   ]
  },
  {
   "cell_type": "markdown",
   "id": "2d7121e2",
   "metadata": {},
   "source": [
    "* Using the random.normal() function, create a vector, $\\epsilon$, containing 100 observations drawn from a N(0, 1) distribution i.e. a normal distribution with mean zero and variance 1."
   ]
  },
  {
   "cell_type": "markdown",
   "id": "5fd8e4b0",
   "metadata": {},
   "source": [
    "* Using $x$ and $\\epsilon$, generate a vector $y$ according to the model\n",
    "\n",
    "$Y = x - 2x^2+ \\epsilon$ "
   ]
  },
  {
   "cell_type": "code",
   "execution_count": 7,
   "id": "f244cc5e",
   "metadata": {},
   "outputs": [],
   "source": [
    "\n",
    "np.random.seed(42)\n",
    "\n",
    "\n",
    "x = np.random.normal(0, 1, 100)\n",
    "\n",
    "\n",
    "epsilon = np.random.normal(0, 1, 100)\n",
    "\n",
    "#Generate vector y using the given model\n",
    "y = x - 2 * x**2 + epsilon"
   ]
  },
  {
   "cell_type": "markdown",
   "id": "90dacab0",
   "metadata": {},
   "source": [
    "(b) Plot the scatter plot between $x$ and $y$."
   ]
  },
  {
   "cell_type": "code",
   "execution_count": 8,
   "id": "a473ae64",
   "metadata": {
    "scrolled": true
   },
   "outputs": [
    {
     "data": {
      "image/png": "[encoded data removed]",
      "text/plain": [
       "<Figure size 640x480 with 1 Axes>"
      ]
     },
     "metadata": {},
     "output_type": "display_data"
    }
   ],
   "source": [
    "plt.scatter(x,y)\n",
    "plt.show()"
   ]
  },
  {
   "cell_type": "markdown",
   "id": "c58d0758",
   "metadata": {},
   "source": [
    "(c) Compute the Leave One Out Cross-Validation errors using Mean squared error (MSE) that result from fitting the following four models using least squares:"
   ]
  },
  {
   "attachments": {
    "pyt.png": {
     "image/png": "[encoded data removed]"
    }
   },
   "cell_type": "markdown",
   "id": "08bfdad0",
   "metadata": {},
   "source": [
    "![pyt.png](attachment:pyt.png)"
   ]
  },
  {
   "cell_type": "code",
   "execution_count": 9,
   "id": "b8f958f7",
   "metadata": {},
   "outputs": [
    {
     "name": "stdout",
     "output_type": "stream",
     "text": [
      "degree = 1, errors using MSE: 5.3029566276895945\n",
      "degree = 2, errors using MSE: 0.9127641950599262\n",
      "degree = 3, errors using MSE: 0.9569572977749516\n",
      "degree = 4, errors using MSE: 0.9727724672791439\n"
     ]
    }
   ],
   "source": [
    "from sklearn.model_selection import cross_val_score\n",
    "\n",
    "for power in range(1,5):\n",
    "    poly = PolynomialFeatures(power,include_bias=False)\n",
    "    X_poly = poly.fit_transform(x.reshape(-1, 1))\n",
    "\n",
    "\n",
    "    cv = LeaveOneOut()\n",
    "\n",
    "    model = LinearRegression(fit_intercept=True)\n",
    "    model.fit(X_poly,y)\n",
    "\n",
    "    scores = cross_val_score(model, X_poly, y, scoring='neg_mean_squared_error', cv=cv, n_jobs=-1)\n",
    "    average_MSE = np.mean(np.absolute(scores))\n",
    "    print('degree = {}, errors using MSE: {}'.format(power,average_MSE))"
   ]
  },
  {
   "cell_type": "markdown",
   "id": "60bf753e",
   "metadata": {},
   "source": [
    "(d)  What is the model with the smallest LOOCV error\n",
    "\n",
    "\n",
    "The lowest LOOCV error is attained with the model of the second degree"
   ]
  },
  {
   "cell_type": "markdown",
   "id": "7dd06473",
   "metadata": {},
   "source": [
    "(e) Observe the statistical significance of the coefficient estimates that results from fitting each of the models above using\n",
    "least squares."
   ]
  },
  {
   "cell_type": "code",
   "execution_count": 14,
   "id": "46968e89",
   "metadata": {},
   "outputs": [
    {
     "name": "stdout",
     "output_type": "stream",
     "text": [
      "Polynomial Degree 1 Model:\n",
      "                            OLS Regression Results                            \n",
      "==============================================================================\n",
      "Dep. Variable:                      y   R-squared:                       0.299\n",
      "Model:                            OLS   Adj. R-squared:                  0.292\n",
      "Method:                 Least Squares   F-statistic:                     41.83\n",
      "Date:                Thu, 05 Oct 2023   Prob (F-statistic):           3.91e-09\n",
      "Time:                        17:57:45   Log-Likelihood:                -220.62\n",
      "No. Observations:                 100   AIC:                             445.2\n",
      "Df Residuals:                      98   BIC:                             450.5\n",
      "Df Model:                           1                                         \n",
      "Covariance Type:            nonrobust                                         \n",
      "==============================================================================\n",
      "                 coef    std err          t      P>|t|      [0.025      0.975]\n",
      "------------------------------------------------------------------------------\n",
      "const         -1.5712      0.223     -7.032      0.000      -2.015      -1.128\n",
      "x1             1.5889      0.246      6.468      0.000       1.101       2.076\n",
      "==============================================================================\n",
      "Omnibus:                       46.745   Durbin-Watson:                   2.108\n",
      "Prob(Omnibus):                  0.000   Jarque-Bera (JB):              125.091\n",
      "Skew:                          -1.716   Prob(JB):                     6.87e-28\n",
      "Kurtosis:                       7.270   Cond. No.                         1.16\n",
      "==============================================================================\n",
      "\n",
      "Notes:\n",
      "[1] Standard Errors assume that the covariance matrix of the errors is correctly specified.\n",
      "Polynomial Degree 2 Model:\n",
      "                            OLS Regression Results                            \n",
      "==============================================================================\n",
      "Dep. Variable:                      y   R-squared:                       0.878\n",
      "Model:                            OLS   Adj. R-squared:                  0.875\n",
      "Method:                 Least Squares   F-statistic:                     348.1\n",
      "Date:                Thu, 05 Oct 2023   Prob (F-statistic):           5.45e-45\n",
      "Time:                        17:57:45   Log-Likelihood:                -133.32\n",
      "No. Observations:                 100   AIC:                             272.6\n",
      "Df Residuals:                      97   BIC:                             280.5\n",
      "Df Model:                           2                                         \n",
      "Covariance Type:            nonrobust                                         \n",
      "==============================================================================\n",
      "                 coef    std err          t      P>|t|      [0.025      0.975]\n",
      "------------------------------------------------------------------------------\n",
      "const         -0.1381      0.115     -1.199      0.233      -0.367       0.091\n",
      "x1             0.9243      0.108      8.582      0.000       0.710       1.138\n",
      "x2            -1.8156      0.085    -21.423      0.000      -1.984      -1.647\n",
      "==============================================================================\n",
      "Omnibus:                        2.075   Durbin-Watson:                   2.233\n",
      "Prob(Omnibus):                  0.354   Jarque-Bera (JB):                1.910\n",
      "Skew:                           0.239   Prob(JB):                        0.385\n",
      "Kurtosis:                       2.521   Cond. No.                         2.27\n",
      "==============================================================================\n",
      "\n",
      "Notes:\n",
      "[1] Standard Errors assume that the covariance matrix of the errors is correctly specified.\n",
      "Polynomial Degree 3 Model:\n",
      "                            OLS Regression Results                            \n",
      "==============================================================================\n",
      "Dep. Variable:                      y   R-squared:                       0.878\n",
      "Model:                            OLS   Adj. R-squared:                  0.874\n",
      "Method:                 Least Squares   F-statistic:                     230.1\n",
      "Date:                Thu, 05 Oct 2023   Prob (F-statistic):           1.06e-43\n",
      "Time:                        17:57:45   Log-Likelihood:                -133.24\n",
      "No. Observations:                 100   AIC:                             274.5\n",
      "Df Residuals:                      96   BIC:                             284.9\n",
      "Df Model:                           3                                         \n",
      "Covariance Type:            nonrobust                                         \n",
      "==============================================================================\n",
      "                 coef    std err          t      P>|t|      [0.025      0.975]\n",
      "------------------------------------------------------------------------------\n",
      "const         -0.1521      0.121     -1.258      0.212      -0.392       0.088\n",
      "x1             0.8643      0.186      4.653      0.000       0.496       1.233\n",
      "x2            -1.7931      0.102    -17.534      0.000      -1.996      -1.590\n",
      "x3             0.0284      0.071      0.397      0.692      -0.113       0.170\n",
      "==============================================================================\n",
      "Omnibus:                        1.875   Durbin-Watson:                   2.219\n",
      "Prob(Omnibus):                  0.392   Jarque-Bera (JB):                1.802\n",
      "Skew:                           0.242   Prob(JB):                        0.406\n",
      "Kurtosis:                       2.555   Cond. No.                         6.37\n",
      "==============================================================================\n",
      "\n",
      "Notes:\n",
      "[1] Standard Errors assume that the covariance matrix of the errors is correctly specified.\n",
      "Polynomial Degree 4 Model:\n",
      "                            OLS Regression Results                            \n",
      "==============================================================================\n",
      "Dep. Variable:                      y   R-squared:                       0.880\n",
      "Model:                            OLS   Adj. R-squared:                  0.875\n",
      "Method:                 Least Squares   F-statistic:                     173.5\n",
      "Date:                Thu, 05 Oct 2023   Prob (F-statistic):           9.14e-43\n",
      "Time:                        17:57:45   Log-Likelihood:                -132.55\n",
      "No. Observations:                 100   AIC:                             275.1\n",
      "Df Residuals:                      95   BIC:                             288.1\n",
      "Df Model:                           4                                         \n",
      "Covariance Type:            nonrobust                                         \n",
      "==============================================================================\n",
      "                 coef    std err          t      P>|t|      [0.025      0.975]\n",
      "------------------------------------------------------------------------------\n",
      "const         -0.2078      0.130     -1.598      0.113      -0.466       0.050\n",
      "x1             1.0122      0.226      4.485      0.000       0.564       1.460\n",
      "x2            -1.5885      0.205     -7.745      0.000      -1.996      -1.181\n",
      "x3            -0.0626      0.106     -0.588      0.558      -0.274       0.149\n",
      "x4            -0.0665      0.058     -1.150      0.253      -0.181       0.048\n",
      "==============================================================================\n",
      "Omnibus:                        1.429   Durbin-Watson:                   2.265\n",
      "Prob(Omnibus):                  0.489   Jarque-Bera (JB):                1.426\n",
      "Skew:                           0.202   Prob(JB):                        0.490\n",
      "Kurtosis:                       2.576   Cond. No.                         18.9\n",
      "==============================================================================\n",
      "\n",
      "Notes:\n",
      "[1] Standard Errors assume that the covariance matrix of the errors is correctly specified.\n"
     ]
    }
   ],
   "source": [
    "from sklearn.preprocessing import PolynomialFeatures\n",
    "\n",
    "\n",
    "for power in range(1, 5):\n",
    "    # Create polynomial features\n",
    "    poly = PolynomialFeatures(power, include_bias=False)\n",
    "    X_poly = poly.fit_transform(x.reshape(-1, 1))\n",
    "    \n",
    "    # Add a constant (intercept) term to the model\n",
    "    X_poly = sm.add_constant(X_poly)\n",
    "    \n",
    "    # Fit the linear regression model using statsmodels\n",
    "    model = sm.OLS(y, X_poly).fit()\n",
    "    \n",
    "    # Print the summary statistics for the model\n",
    "    print(f\"Polynomial Degree {power} Model:\")\n",
    "    print(model.summary())"
   ]
  },
  {
   "cell_type": "markdown",
   "id": "447eaac8",
   "metadata": {},
   "source": [
    "(f) Observe the t-statistic values\n",
    "\n",
    "\n",
    "\n",
    "Model 1:\n",
    "- Constant (Intercept): -7.032\n",
    "- x1: 6.468\n",
    "\n",
    "Model 2:\n",
    "- Constant (Intercept): -1.199\n",
    "- x1: 8.582\n",
    "- x2: -21.423\n",
    "\n",
    "Model 3:\n",
    "- Constant (Intercept): -1.258\n",
    "- x1: 4.653\n",
    "- x2: -17.534\n",
    "- x3: 0.397\n",
    "\n",
    "Model 4:\n",
    "- Constant (Intercept): -1.598\n",
    "- x1: 4.485\n",
    "- x2: -7.745\n",
    "- x3: -0.588\n",
    "- x4: -1.150\n",
    "\n",
    "\n",
    "\n",
    "\n",
    "\n",
    "T "
   ]
  }
 ],
 "metadata": {
  "kernelspec": {
   "display_name": "Python 3 (ipykernel)",
   "language": "python",
   "name": "python3"
  },
  "language_info": {
   "codemirror_mode": {
    "name": "ipython",
    "version": 3
   },
   "file_extension": ".py",
   "mimetype": "text/x-python",
   "name": "python",
   "nbconvert_exporter": "python",
   "pygments_lexer": "ipython3",
   "version": "3.11.6"
  }
 },
 "nbformat": 4,
 "nbformat_minor": 5
}
