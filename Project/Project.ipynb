{
 "cells": [
  {
   "cell_type": "markdown",
   "id": "e42d4e64",
   "metadata": {},
   "source": [
    "**Project Assignment**"
   ]
  },
  {
   "cell_type": "markdown",
   "id": "1325c54a",
   "metadata": {},
   "source": [
    "**Formalities**\n",
    "\n",
    "This is the project for the course Probability and Statistical Learning Using Python, 2023. Here, you are asked to carry out the analysis using the tools, techniques, and skills acquired in the course and hand in a .pynb file with the solutions.\n",
    "\n",
    "The **deadline  is Friday, October\n",
    "27, 2023.** You should upload the solution file to 'Project Assignment' in Canvas via 'Home-->Project Assignment'.\n",
    "Note that this is an individual exam."
   ]
  },
  {
   "cell_type": "markdown",
   "id": "3ab58442",
   "metadata": {},
   "source": [
    "**Part I**"
   ]
  },
  {
   "cell_type": "markdown",
   "id": "a14a735f",
   "metadata": {},
   "source": [
    "In this exercise we will estimate the test error of logistic regression model using the below described validation set approach. You will neeed to import the *Default.csv* file provided. "
   ]
  },
  {
   "cell_type": "code",
   "execution_count": 99,
   "id": "679f0d9c",
   "metadata": {},
   "outputs": [],
   "source": [
    "import pandas as pd\n",
    "import numpy as np\n",
    "\n",
    "from sklearn.linear_model import LogisticRegression\n",
    "from sklearn.metrics import accuracy_score\n",
    "from sklearn.model_selection import train_test_split\n",
    "import statsmodels.formula.api as smf\n",
    "\n",
    "from scipy import stats\n",
    "stats.chisqprob = lambda chisq, df: stats.chi2.sf(chisq, df)\n",
    "import patsy\n",
    "import seaborn as sns\n",
    "import matplotlib.pyplot as plt\n",
    "\n",
    "%matplotlib inline"
   ]
  },
  {
   "cell_type": "code",
   "execution_count": 6,
   "id": "95b68f25",
   "metadata": {},
   "outputs": [],
   "source": [
    "np.random.seed(1)\n",
    "#Uncomment and set the path to the csv file below\n",
    "df = pd.read_csv(\"Default.csv\", index_col=0)"
   ]
  },
  {
   "cell_type": "code",
   "execution_count": 134,
   "id": "e6928055",
   "metadata": {},
   "outputs": [
    {
     "name": "stdout",
     "output_type": "stream",
     "text": [
      "    Unnamed: 0  default  student      balance       income\n",
      "0            1        0        0   729.526495  44361.62507\n",
      "1            2        0        1   817.180407  12106.13470\n",
      "2            3        0        0  1073.549164  31767.13895\n",
      "3            4        0        0   529.250605  35704.49394\n",
      "4            5        0        0   785.655883  38463.49588\n",
      "..         ...      ...      ...          ...          ...\n",
      "95          96        0        0   820.017113  51584.65732\n",
      "96          97        0        1   619.751869  15750.62208\n",
      "97          98        0        0  1047.718124  46416.97099\n",
      "98          99        0        0   243.841328  47193.88813\n",
      "99         100        0        0   186.500387  45430.55027\n",
      "\n",
      "[100 rows x 5 columns]\n"
     ]
    }
   ],
   "source": [
    "\n",
    "print(df.head(100))\n"
   ]
  },
  {
   "cell_type": "markdown",
   "id": "cb9e4c6d",
   "metadata": {},
   "source": [
    "(a) Fit a logistic regression model that uses $income$ and $balance$ to\n",
    "predict $default$ and print out the summary. **(3 pts)**"
   ]
  },
  {
   "cell_type": "code",
   "execution_count": 135,
   "id": "786cea44",
   "metadata": {},
   "outputs": [
    {
     "name": "stdout",
     "output_type": "stream",
     "text": [
      "Optimization terminated successfully.\n",
      "         Current function value: 0.078948\n",
      "         Iterations 10\n",
      "Model Summary:\n",
      "                           Logit Regression Results                           \n",
      "==============================================================================\n",
      "Dep. Variable:                default   No. Observations:                10000\n",
      "Model:                          Logit   Df Residuals:                     9997\n",
      "Method:                           MLE   Df Model:                            2\n",
      "Date:                Tue, 10 Oct 2023   Pseudo R-squ.:                  0.4594\n",
      "Time:                        18:04:39   Log-Likelihood:                -789.48\n",
      "converged:                       True   LL-Null:                       -1460.3\n",
      "Covariance Type:            nonrobust   LLR p-value:                4.541e-292\n",
      "==============================================================================\n",
      "                 coef    std err          z      P>|z|      [0.025      0.975]\n",
      "------------------------------------------------------------------------------\n",
      "Intercept    -11.5405      0.435    -26.544      0.000     -12.393     -10.688\n",
      "income      2.081e-05   4.99e-06      4.174      0.000     1.1e-05    3.06e-05\n",
      "balance        0.0056      0.000     24.835      0.000       0.005       0.006\n",
      "==============================================================================\n",
      "\n",
      "Possibly complete quasi-separation: A fraction 0.14 of observations can be\n",
      "perfectly predicted. This might indicate that there is complete\n",
      "quasi-separation. In this case some parameters will not be identified.\n",
      "Accuracy: 0.966\n",
      "Test Error: 0.03400000000000003\n"
     ]
    }
   ],
   "source": [
    "np.random.seed(1)\n",
    "\n",
    "# Load the dataset\n",
    "df = pd.read_csv('Default.csv')\n",
    "\n",
    "# Map 'default' and 'student' to binary values\n",
    "df['default'] = df['default'].map({'No': 0, 'Yes': 1})\n",
    "df['student'] = df['student'].map({'No': 0, 'Yes': 1})\n",
    "\n",
    "# Define the features (X) and target (y)\n",
    "X = df[['income', 'balance']]\n",
    "y = df['default']\n",
    "\n",
    "# Split the data into training and testing sets\n",
    "X_train, X_test, y_train, y_test = train_test_split(X, y, test_size=0.3, random_state=5)\n",
    "\n",
    "# Fit a logistic regression model\n",
    "logit = LogisticRegression()\n",
    "logit.fit(X_train, y_train)\n",
    "\n",
    "# Make predictions on the test set\n",
    "y_pred = logit.predict(X_test)\n",
    "\n",
    "# Print model summary\n",
    "model_summary = smf.logit('default ~ income + balance', data=df).fit().summary()\n",
    "print(\"Model Summary:\")\n",
    "print(model_summary)\n",
    "\n",
    "# Calculate and print accuracy and test error\n",
    "accuracy = accuracy_score(y_test, y_pred)\n",
    "test_error = 1 - accuracy\n",
    "print('Accuracy:', accuracy)\n",
    "print('Test Error:', test_error)"
   ]
  },
  {
   "cell_type": "markdown",
   "id": "5302291b",
   "metadata": {},
   "source": [
    "(b) You are supposed to estimate the test error of this model using the validation set approach described below. In order to do this, you must perform the following steps: **(4 pts)**"
   ]
  },
  {
   "cell_type": "markdown",
   "id": "e31129a5",
   "metadata": {},
   "source": [
    "i. Split the sample set into a training set and a validation set."
   ]
  },
  {
   "cell_type": "code",
   "execution_count": 136,
   "id": "fff91e42",
   "metadata": {},
   "outputs": [
    {
     "name": "stdout",
     "output_type": "stream",
     "text": [
      "Validation Set Accuracy: 0.9671428571428572\n"
     ]
    }
   ],
   "source": [
    "X_train, X_val, y_train, y_val = train_test_split(X_train, y_train, test_size=0.2, random_state=1)\n",
    "\n",
    "# Fit a logistic regression model on the training set\n"
   ]
  },
  {
   "cell_type": "markdown",
   "id": "df41deb6",
   "metadata": {},
   "source": [
    "ii. Fit a multiple logistic regression model using only the training\n",
    "observations."
   ]
  },
  {
   "cell_type": "code",
   "execution_count": 139,
   "id": "52306566",
   "metadata": {},
   "outputs": [
    {
     "data": {
      "text/html": [
       "<style>#sk-container-id-1 {color: black;}#sk-container-id-1 pre{padding: 0;}#sk-container-id-1 div.sk-toggleable {background-color: white;}#sk-container-id-1 label.sk-toggleable__label {cursor: pointer;display: block;width: 100%;margin-bottom: 0;padding: 0.3em;box-sizing: border-box;text-align: center;}#sk-container-id-1 label.sk-toggleable__label-arrow:before {content: \"▸\";float: left;margin-right: 0.25em;color: #696969;}#sk-container-id-1 label.sk-toggleable__label-arrow:hover:before {color: black;}#sk-container-id-1 div.sk-estimator:hover label.sk-toggleable__label-arrow:before {color: black;}#sk-container-id-1 div.sk-toggleable__content {max-height: 0;max-width: 0;overflow: hidden;text-align: left;background-color: #f0f8ff;}#sk-container-id-1 div.sk-toggleable__content pre {margin: 0.2em;color: black;border-radius: 0.25em;background-color: #f0f8ff;}#sk-container-id-1 input.sk-toggleable__control:checked~div.sk-toggleable__content {max-height: 200px;max-width: 100%;overflow: auto;}#sk-container-id-1 input.sk-toggleable__control:checked~label.sk-toggleable__label-arrow:before {content: \"▾\";}#sk-container-id-1 div.sk-estimator input.sk-toggleable__control:checked~label.sk-toggleable__label {background-color: #d4ebff;}#sk-container-id-1 div.sk-label input.sk-toggleable__control:checked~label.sk-toggleable__label {background-color: #d4ebff;}#sk-container-id-1 input.sk-hidden--visually {border: 0;clip: rect(1px 1px 1px 1px);clip: rect(1px, 1px, 1px, 1px);height: 1px;margin: -1px;overflow: hidden;padding: 0;position: absolute;width: 1px;}#sk-container-id-1 div.sk-estimator {font-family: monospace;background-color: #f0f8ff;border: 1px dotted black;border-radius: 0.25em;box-sizing: border-box;margin-bottom: 0.5em;}#sk-container-id-1 div.sk-estimator:hover {background-color: #d4ebff;}#sk-container-id-1 div.sk-parallel-item::after {content: \"\";width: 100%;border-bottom: 1px solid gray;flex-grow: 1;}#sk-container-id-1 div.sk-label:hover label.sk-toggleable__label {background-color: #d4ebff;}#sk-container-id-1 div.sk-serial::before {content: \"\";position: absolute;border-left: 1px solid gray;box-sizing: border-box;top: 0;bottom: 0;left: 50%;z-index: 0;}#sk-container-id-1 div.sk-serial {display: flex;flex-direction: column;align-items: center;background-color: white;padding-right: 0.2em;padding-left: 0.2em;position: relative;}#sk-container-id-1 div.sk-item {position: relative;z-index: 1;}#sk-container-id-1 div.sk-parallel {display: flex;align-items: stretch;justify-content: center;background-color: white;position: relative;}#sk-container-id-1 div.sk-item::before, #sk-container-id-1 div.sk-parallel-item::before {content: \"\";position: absolute;border-left: 1px solid gray;box-sizing: border-box;top: 0;bottom: 0;left: 50%;z-index: -1;}#sk-container-id-1 div.sk-parallel-item {display: flex;flex-direction: column;z-index: 1;position: relative;background-color: white;}#sk-container-id-1 div.sk-parallel-item:first-child::after {align-self: flex-end;width: 50%;}#sk-container-id-1 div.sk-parallel-item:last-child::after {align-self: flex-start;width: 50%;}#sk-container-id-1 div.sk-parallel-item:only-child::after {width: 0;}#sk-container-id-1 div.sk-dashed-wrapped {border: 1px dashed gray;margin: 0 0.4em 0.5em 0.4em;box-sizing: border-box;padding-bottom: 0.4em;background-color: white;}#sk-container-id-1 div.sk-label label {font-family: monospace;font-weight: bold;display: inline-block;line-height: 1.2em;}#sk-container-id-1 div.sk-label-container {text-align: center;}#sk-container-id-1 div.sk-container {/* jupyter's `normalize.less` sets `[hidden] { display: none; }` but bootstrap.min.css set `[hidden] { display: none !important; }` so we also need the `!important` here to be able to override the default hidden behavior on the sphinx rendered scikit-learn.org. See: https://github.com/scikit-learn/scikit-learn/issues/21755 */display: inline-block !important;position: relative;}#sk-container-id-1 div.sk-text-repr-fallback {display: none;}</style><div id=\"sk-container-id-1\" class=\"sk-top-container\"><div class=\"sk-text-repr-fallback\"><pre>LogisticRegression()</pre><b>In a Jupyter environment, please rerun this cell to show the HTML representation or trust the notebook. <br />On GitHub, the HTML representation is unable to render, please try loading this page with nbviewer.org.</b></div><div class=\"sk-container\" hidden><div class=\"sk-item\"><div class=\"sk-estimator sk-toggleable\"><input class=\"sk-toggleable__control sk-hidden--visually\" id=\"sk-estimator-id-1\" type=\"checkbox\" checked><label for=\"sk-estimator-id-1\" class=\"sk-toggleable__label sk-toggleable__label-arrow\">LogisticRegression</label><div class=\"sk-toggleable__content\"><pre>LogisticRegression()</pre></div></div></div></div></div>"
      ],
      "text/plain": [
       "LogisticRegression()"
      ]
     },
     "execution_count": 139,
     "metadata": {},
     "output_type": "execute_result"
    }
   ],
   "source": [
    "logit_model = LogisticRegression()\n",
    "logit_model.fit(X_train, y_train)\n",
    "\n"
   ]
  },
  {
   "cell_type": "markdown",
   "id": "83e13126",
   "metadata": {},
   "source": [
    "iii. Obtain a prediction of default status for each individual in\n",
    "the validation set (test set) by computing the posterior probability of\n",
    "$default$ for that individual, and classifying the individual to\n",
    "the $default$ category if the posterior probability is greater\n",
    "than 0.5."
   ]
  },
  {
   "cell_type": "code",
   "execution_count": 141,
   "id": "d2e4618f",
   "metadata": {},
   "outputs": [],
   "source": [
    "y_val_pred = logit_model.predict(X_val)"
   ]
  },
  {
   "cell_type": "markdown",
   "id": "8b8bfa3b",
   "metadata": {},
   "source": [
    "iv. Compute the validation set error, which is the fraction of\n",
    "the observations in the validation set (test set) that are misclassified."
   ]
  },
  {
   "cell_type": "code",
   "execution_count": 142,
   "id": "2a636670",
   "metadata": {},
   "outputs": [
    {
     "name": "stdout",
     "output_type": "stream",
     "text": [
      "Validation Set Accuracy: 0.9671428571428572\n"
     ]
    }
   ],
   "source": [
    "\n",
    "validation_accuracy = accuracy_score(y_val, y_val_pred)\n",
    "print('Validation Set Accuracy:', validation_accuracy)"
   ]
  },
  {
   "cell_type": "markdown",
   "id": "88f375ea",
   "metadata": {},
   "source": [
    "(c) Now consider a logistic regression model that predicts the probability of default using $income$, $balance$, a dummy variable for $student$ and print the summary. Estimate the test error for this model using the validation\n",
    "set approach. Comment on the results. Does the inclusion of a dummy variable for student lead to a reduction in the test error? **(3 pts)**"
   ]
  },
  {
   "cell_type": "code",
   "execution_count": 144,
   "id": "d0e54900",
   "metadata": {},
   "outputs": [
    {
     "name": "stdout",
     "output_type": "stream",
     "text": [
      "Accuracy:  0.9663333333333334\n",
      "test error:  0.03366666666666662\n",
      "Optimization terminated successfully.\n",
      "         Current function value: 0.078577\n",
      "         Iterations 10\n",
      "summary:                             Logit Regression Results                           \n",
      "==============================================================================\n",
      "Dep. Variable:                default   No. Observations:                10000\n",
      "Model:                          Logit   Df Residuals:                     9996\n",
      "Method:                           MLE   Df Model:                            3\n",
      "Date:                Tue, 10 Oct 2023   Pseudo R-squ.:                  0.4619\n",
      "Time:                        18:19:55   Log-Likelihood:                -785.77\n",
      "converged:                       True   LL-Null:                       -1460.3\n",
      "Covariance Type:            nonrobust   LLR p-value:                3.257e-292\n",
      "==============================================================================\n",
      "                 coef    std err          z      P>|z|      [0.025      0.975]\n",
      "------------------------------------------------------------------------------\n",
      "Intercept    -10.8690      0.492    -22.079      0.000     -11.834      -9.904\n",
      "income      3.033e-06    8.2e-06      0.370      0.712    -1.3e-05    1.91e-05\n",
      "balance        0.0057      0.000     24.737      0.000       0.005       0.006\n",
      "student       -0.6468      0.236     -2.738      0.006      -1.110      -0.184\n",
      "==============================================================================\n",
      "\n",
      "Possibly complete quasi-separation: A fraction 0.15 of observations can be\n",
      "perfectly predicted. This might indicate that there is complete\n",
      "quasi-separation. In this case some parameters will not be identified.\n"
     ]
    }
   ],
   "source": [
    "X2 = df[['income']]\n",
    "y2 = df['default']\n",
    "X3_train, X3_test, y3_train, y3_test = train_test_split(X2, y2, test_size=0.3, random_state=5)\n",
    "logit3 = LogisticRegression()\n",
    "logit3.fit(X3_train, y3_train)\n",
    "y3_pred = logit3.predict(X3_test)\n",
    "print('Accuracy: ', accuracy_score(y3_test, y3_pred))\n",
    "print(\"test error: \", 1 - accuracy_score(y3_test, y3_pred))\n",
    "print(\"summary: \", smf.logit('default ~ income + balance + student', data=df).fit().summary())"
   ]
  },
  {
   "cell_type": "markdown",
   "id": "5a0f6b09",
   "metadata": {},
   "source": [
    "**Part II**"
   ]
  },
  {
   "cell_type": "code",
   "execution_count": 98,
   "id": "4eb2b852",
   "metadata": {},
   "outputs": [],
   "source": [
    "import numpy as np\n",
    "import pandas as pd\n",
    "from math import sqrt\n",
    "import random\n",
    "from matplotlib import pyplot as plt\n",
    "import warnings"
   ]
  },
  {
   "cell_type": "markdown",
   "id": "709f0854",
   "metadata": {},
   "source": [
    "In this exercise, you will demonstrate your understanding of the KNN classification algorithm and test it on a breast cancer dataset. The algorithm should be implemented in pure python, without using the sklearn library."
   ]
  },
  {
   "cell_type": "markdown",
   "id": "2e5ce805",
   "metadata": {},
   "source": [
    "**KNN algorithm**"
   ]
  },
  {
   "cell_type": "markdown",
   "id": "4048b3fc",
   "metadata": {},
   "source": [
    "(a)  Implement a function of your own to perform KNN classification **without using the default available libraries such as KNeighborsClassifier() in sklearn**. You will need to consider the Euclidean distances between the features and data to be predicted (test data) when selecting the k-nearest neighbors. The function should take 3 inputs as 1) data set to train the model 2) data to test 3) number of neighbours (k). If *k* is set to a value less than or equal to the total classification groups, the function should give a warning, and  warn() function defined in the 'warning' module will be useful for that.\n",
    "\n",
    "The function should output *classification_result*, where *classification_result* is the result of your classifier. Further, you should provide a suitable measure of the confidence on the classification. Justify your choice. \n",
    "\n",
    "Please note that only a few basic libraries/modules are imported and thus you are expected to import the needed others. \n",
    "\n",
    "\n",
    "\n",
    "**Hint:** You may fill and complete the function given below.                **(5 pts)** "
   ]
  },
  {
   "cell_type": "code",
   "execution_count": 145,
   "id": "d468242e",
   "metadata": {},
   "outputs": [],
   "source": [
    "\n",
    "\n",
    "def knn_algorithm(train_data, test_data, k_neighbors=5):\n",
    "    num_classes = len(np.unique(train_data[:, -1]))\n",
    "\n",
    "    if k_neighbors <= num_classes:\n",
    "        warnings.warn(\"k is less than or equal to the number of classes. Consider choosing a higher k.\")\n",
    "\n",
    "    classification_result = np.zeros(len(test_data), dtype=int)\n",
    "    confidence = np.zeros(len(test_data), dtype=float)\n",
    "\n",
    "    for i, test_instance in enumerate(test_data):\n",
    "        distances = np.sqrt(np.sum((train_data[:, :-1] - test_instance) ** 2, axis=1))\n",
    "        sorted_indices = np.argsort(distances)\n",
    "        k_indices = sorted_indices[:k_neighbors]\n",
    "        k_nearest_labels = train_data[k_indices, -1]\n",
    "\n",
    "        unique_labels, counts = np.unique(k_nearest_labels, return_counts=True)\n",
    "        most_common_label = unique_labels[np.argmax(counts)]\n",
    "        \n",
    "        classification_result[i] = most_common_label\n",
    "        confidence[i] = counts.max() / k_neighbors\n",
    "\n",
    "    return classification_result, confidence"
   ]
  },
  {
   "cell_type": "markdown",
   "id": "cc6b1202",
   "metadata": {},
   "source": [
    "#### Now let's test the implemented KNN algorithm on the given breast cancer dataset."
   ]
  },
  {
   "cell_type": "markdown",
   "id": "b3bd0f63",
   "metadata": {},
   "source": [
    "This dataset contains records of breast cancer patients. Here we will use the features (columns) to predict the correct cancer class (last column) for the patients in the dataset as shown below. "
   ]
  },
  {
   "cell_type": "code",
   "execution_count": 146,
   "id": "27af2716",
   "metadata": {},
   "outputs": [
    {
     "data": {
      "text/html": [
       "<div>\n",
       "<style scoped>\n",
       "    .dataframe tbody tr th:only-of-type {\n",
       "        vertical-align: middle;\n",
       "    }\n",
       "\n",
       "    .dataframe tbody tr th {\n",
       "        vertical-align: top;\n",
       "    }\n",
       "\n",
       "    .dataframe thead th {\n",
       "        text-align: right;\n",
       "    }\n",
       "</style>\n",
       "<table border=\"1\" class=\"dataframe\">\n",
       "  <thead>\n",
       "    <tr style=\"text-align: right;\">\n",
       "      <th></th>\n",
       "      <th>id</th>\n",
       "      <th>clump_thickness</th>\n",
       "      <th>unif_cell_size</th>\n",
       "      <th>unif_cell_shape</th>\n",
       "      <th>marg_adhesion</th>\n",
       "      <th>single_epith_cell_size</th>\n",
       "      <th>bare_nuclei</th>\n",
       "      <th>bland_chrom</th>\n",
       "      <th>norm_nucleoli</th>\n",
       "      <th>mitoses</th>\n",
       "      <th>class</th>\n",
       "    </tr>\n",
       "  </thead>\n",
       "  <tbody>\n",
       "    <tr>\n",
       "      <th>0</th>\n",
       "      <td>1000025</td>\n",
       "      <td>5</td>\n",
       "      <td>1</td>\n",
       "      <td>1</td>\n",
       "      <td>1</td>\n",
       "      <td>2</td>\n",
       "      <td>1</td>\n",
       "      <td>3</td>\n",
       "      <td>1</td>\n",
       "      <td>1</td>\n",
       "      <td>2</td>\n",
       "    </tr>\n",
       "    <tr>\n",
       "      <th>1</th>\n",
       "      <td>1002945</td>\n",
       "      <td>5</td>\n",
       "      <td>4</td>\n",
       "      <td>4</td>\n",
       "      <td>5</td>\n",
       "      <td>7</td>\n",
       "      <td>10</td>\n",
       "      <td>3</td>\n",
       "      <td>2</td>\n",
       "      <td>1</td>\n",
       "      <td>2</td>\n",
       "    </tr>\n",
       "    <tr>\n",
       "      <th>2</th>\n",
       "      <td>1015425</td>\n",
       "      <td>3</td>\n",
       "      <td>1</td>\n",
       "      <td>1</td>\n",
       "      <td>1</td>\n",
       "      <td>2</td>\n",
       "      <td>2</td>\n",
       "      <td>3</td>\n",
       "      <td>1</td>\n",
       "      <td>1</td>\n",
       "      <td>2</td>\n",
       "    </tr>\n",
       "    <tr>\n",
       "      <th>3</th>\n",
       "      <td>1016277</td>\n",
       "      <td>6</td>\n",
       "      <td>8</td>\n",
       "      <td>8</td>\n",
       "      <td>1</td>\n",
       "      <td>3</td>\n",
       "      <td>4</td>\n",
       "      <td>3</td>\n",
       "      <td>7</td>\n",
       "      <td>1</td>\n",
       "      <td>2</td>\n",
       "    </tr>\n",
       "    <tr>\n",
       "      <th>4</th>\n",
       "      <td>1017023</td>\n",
       "      <td>4</td>\n",
       "      <td>1</td>\n",
       "      <td>1</td>\n",
       "      <td>3</td>\n",
       "      <td>2</td>\n",
       "      <td>1</td>\n",
       "      <td>3</td>\n",
       "      <td>1</td>\n",
       "      <td>1</td>\n",
       "      <td>2</td>\n",
       "    </tr>\n",
       "  </tbody>\n",
       "</table>\n",
       "</div>"
      ],
      "text/plain": [
       "        id  clump_thickness  unif_cell_size  unif_cell_shape  marg_adhesion  \\\n",
       "0  1000025                5               1                1              1   \n",
       "1  1002945                5               4                4              5   \n",
       "2  1015425                3               1                1              1   \n",
       "3  1016277                6               8                8              1   \n",
       "4  1017023                4               1                1              3   \n",
       "\n",
       "   single_epith_cell_size bare_nuclei  bland_chrom  norm_nucleoli  mitoses  \\\n",
       "0                       2           1            3              1        1   \n",
       "1                       7          10            3              2        1   \n",
       "2                       2           2            3              1        1   \n",
       "3                       3           4            3              7        1   \n",
       "4                       2           1            3              1        1   \n",
       "\n",
       "   class  \n",
       "0      2  \n",
       "1      2  \n",
       "2      2  \n",
       "3      2  \n",
       "4      2  "
      ]
     },
     "execution_count": 146,
     "metadata": {},
     "output_type": "execute_result"
    }
   ],
   "source": [
    "columns = ['id', 'clump_thickness', 'unif_cell_size', 'unif_cell_shape', 'marg_adhesion',\n",
    "           'single_epith_cell_size', 'bare_nuclei', 'bland_chrom', 'norm_nucleoli', 'mitoses', 'class']\n",
    "#Import the data file by uncommenting below and setting the path to the dataset\n",
    "df = pd.read_csv('breast-cancer-wisconsin.data', header=None, names=columns)\n",
    "df.head()"
   ]
  },
  {
   "cell_type": "markdown",
   "id": "cb999d6b",
   "metadata": {},
   "source": [
    "#### Explore the data"
   ]
  },
  {
   "cell_type": "markdown",
   "id": "82be7ad9",
   "metadata": {},
   "source": [
    "(b) Check how many different cancer classes are available, and plot a pie chart to see the distribution of classes. Then, find and replace all the missing values with the mode of the particular column(s). Note that the missing values are marked with '?' in the dataset. **(1 pt)** "
   ]
  },
  {
   "cell_type": "code",
   "execution_count": 118,
   "id": "e4883d0e",
   "metadata": {},
   "outputs": [
    {
     "name": "stdout",
     "output_type": "stream",
     "text": [
      "Number of different cancer classes: 2\n"
     ]
    },
    {
     "data": {
      "image/png": "[encoded data removed]",
      "text/plain": [
       "<Figure size 800x800 with 1 Axes>"
      ]
     },
     "metadata": {},
     "output_type": "display_data"
    },
    {
     "name": "stdout",
     "output_type": "stream",
     "text": [
      "Total missing values after replacement: 0\n"
     ]
    }
   ],
   "source": [
    "num_classes = df['class'].nunique()\n",
    "print(\"Number of different cancer classes:\", num_classes)\n",
    "\n",
    "# Step 3: Plot a pie chart to visualize the class distribution\n",
    "class_counts = df['class'].value_counts()\n",
    "plt.figure(figsize=(8, 8))\n",
    "plt.pie(class_counts, labels=class_counts.index, autopct='%1.1f%%', startangle=140)\n",
    "plt.title(\"Distribution of Cancer Classes\")\n",
    "plt.show()\n",
    "\n",
    "# Step 4: Find and replace missing values with the mode of each column\n",
    "df = df.replace('?', pd.NA)\n",
    "df = df.fillna(df.mode().iloc[0])\n",
    "\n",
    "# Verify that missing values have been replaced\n",
    "missing_values = df.isnull().sum().sum()\n",
    "print(\"Total missing values after replacement:\", missing_values)"
   ]
  },
  {
   "cell_type": "markdown",
   "id": "d80206cd",
   "metadata": {},
   "source": [
    "#### Feature engineering"
   ]
  },
  {
   "cell_type": "markdown",
   "id": "ec7a7b6c",
   "metadata": {},
   "source": [
    "(c) Drop the obiviously unwanted column(s). **(1 pt)**"
   ]
  },
  {
   "cell_type": "code",
   "execution_count": 119,
   "id": "67debe30",
   "metadata": {},
   "outputs": [
    {
     "name": "stdout",
     "output_type": "stream",
     "text": [
      "   clump_thickness  unif_cell_size  unif_cell_shape  marg_adhesion  \\\n",
      "0                5               1                1              1   \n",
      "1                5               4                4              5   \n",
      "2                3               1                1              1   \n",
      "3                6               8                8              1   \n",
      "4                4               1                1              3   \n",
      "\n",
      "   single_epith_cell_size bare_nuclei  bland_chrom  norm_nucleoli  mitoses  \\\n",
      "0                       2           1            3              1        1   \n",
      "1                       7          10            3              2        1   \n",
      "2                       2           2            3              1        1   \n",
      "3                       3           4            3              7        1   \n",
      "4                       2           1            3              1        1   \n",
      "\n",
      "   class  \n",
      "0      2  \n",
      "1      2  \n",
      "2      2  \n",
      "3      2  \n",
      "4      2  \n"
     ]
    }
   ],
   "source": [
    "unwanted_columns = ['id']  # Add the names of the unwanted columns to this list\n",
    "\n",
    "# Use the drop method to remove the unwanted columns\n",
    "df = df.drop(columns=unwanted_columns)\n",
    "\n",
    "# Print the first few rows of the DataFrame to verify the columns have been dropped\n",
    "print(df.head())"
   ]
  },
  {
   "cell_type": "markdown",
   "id": "ca9f60fc",
   "metadata": {},
   "source": [
    "#### Split the training and test data"
   ]
  },
  {
   "cell_type": "markdown",
   "id": "2c7067dc",
   "metadata": {},
   "source": [
    "(d) In here, you will split the data into training and test sets, **without using sklearn library.** Please use 20% of the dataset as test set and the rest for train set. Shuffle the data prior to splitting in order to prevent any bias during the training and to avoid the model from learning the order of the training. **(5 pts)**"
   ]
  },
  {
   "cell_type": "code",
   "execution_count": 147,
   "id": "05e09a8e",
   "metadata": {},
   "outputs": [
    {
     "name": "stdout",
     "output_type": "stream",
     "text": [
      "Training set size: 560\n",
      "Test set size: 139\n"
     ]
    }
   ],
   "source": [
    "# Shuffle the dataset to randomize the order\n",
    "shuffled_df = df.sample(frac=1, random_state=42)  # You can change the random_state for reproducibility\n",
    "\n",
    "# Calculate the number of samples for the test set (20%)\n",
    "test_size = int(0.2 * len(shuffled_df))\n",
    "\n",
    "# Split the shuffled dataset into training and test sets\n",
    "train_set = shuffled_df[test_size:]\n",
    "test_set = shuffled_df[:test_size]\n",
    "\n",
    "# Reset the index for the new DataFrames\n",
    "train_set = train_set.reset_index(drop=True)\n",
    "test_set = test_set.reset_index(drop=True)\n",
    "\n",
    "# Print the sizes of the training and test sets\n",
    "print(\"Training set size:\", len(train_set))\n",
    "print(\"Test set size:\", len(test_set))"
   ]
  },
  {
   "cell_type": "markdown",
   "id": "04eda4a2",
   "metadata": {},
   "source": [
    "#### Predict the class for test data and calculate the accuracy"
   ]
  },
  {
   "cell_type": "markdown",
   "id": "4173dff6",
   "metadata": {},
   "source": [
    "(e) Now train the KNN classifier you developed in (a) using the training set, and test it on the test set with *k_neighbours=5*. **(4 pts)**\n",
    "\n",
    "Print the confidence for the incorrect predictions the classifier has made.\n",
    "\n",
    "Find the accuracy of the predictions."
   ]
  },
  {
   "cell_type": "code",
   "execution_count": 148,
   "id": "bad73b75",
   "metadata": {},
   "outputs": [
    {
     "ename": "KeyError",
     "evalue": "0",
     "output_type": "error",
     "traceback": [
      "\u001b[1;31m---------------------------------------------------------------------------\u001b[0m",
      "\u001b[1;31mKeyError\u001b[0m                                  Traceback (most recent call last)",
      "File \u001b[1;32m~\\AppData\\Local\\Packages\\PythonSoftwareFoundation.Python.3.11_qbz5n2kfra8p0\\LocalCache\\local-packages\\Python311\\site-packages\\pandas\\core\\indexes\\base.py:3790\u001b[0m, in \u001b[0;36mIndex.get_loc\u001b[1;34m(self, key)\u001b[0m\n\u001b[0;32m   3789\u001b[0m \u001b[39mtry\u001b[39;00m:\n\u001b[1;32m-> 3790\u001b[0m     \u001b[39mreturn\u001b[39;00m \u001b[39mself\u001b[39;49m\u001b[39m.\u001b[39;49m_engine\u001b[39m.\u001b[39;49mget_loc(casted_key)\n\u001b[0;32m   3791\u001b[0m \u001b[39mexcept\u001b[39;00m \u001b[39mKeyError\u001b[39;00m \u001b[39mas\u001b[39;00m err:\n",
      "File \u001b[1;32mindex.pyx:152\u001b[0m, in \u001b[0;36mpandas._libs.index.IndexEngine.get_loc\u001b[1;34m()\u001b[0m\n",
      "File \u001b[1;32mindex.pyx:181\u001b[0m, in \u001b[0;36mpandas._libs.index.IndexEngine.get_loc\u001b[1;34m()\u001b[0m\n",
      "File \u001b[1;32mpandas\\_libs\\hashtable_class_helper.pxi:7080\u001b[0m, in \u001b[0;36mpandas._libs.hashtable.PyObjectHashTable.get_item\u001b[1;34m()\u001b[0m\n",
      "File \u001b[1;32mpandas\\_libs\\hashtable_class_helper.pxi:7088\u001b[0m, in \u001b[0;36mpandas._libs.hashtable.PyObjectHashTable.get_item\u001b[1;34m()\u001b[0m\n",
      "\u001b[1;31mKeyError\u001b[0m: 0",
      "\nThe above exception was the direct cause of the following exception:\n",
      "\u001b[1;31mKeyError\u001b[0m                                  Traceback (most recent call last)",
      "\u001b[1;32mc:\\Users\\Adde\\Desktop\\MVE137\\MVE137\\Project\\Project.ipynb Cell 41\u001b[0m line \u001b[0;36m3\n\u001b[0;32m     <a href='vscode-notebook-cell:/c%3A/Users/Adde/Desktop/MVE137/MVE137/Project/Project.ipynb#X55sZmlsZQ%3D%3D?line=27'>28</a>\u001b[0m \u001b[39m# Iterate through the test set\u001b[39;00m\n\u001b[0;32m     <a href='vscode-notebook-cell:/c%3A/Users/Adde/Desktop/MVE137/MVE137/Project/Project.ipynb#X55sZmlsZQ%3D%3D?line=28'>29</a>\u001b[0m \u001b[39mfor\u001b[39;00m i \u001b[39min\u001b[39;00m \u001b[39mrange\u001b[39m(\u001b[39mlen\u001b[39m(X_test)):\n\u001b[1;32m---> <a href='vscode-notebook-cell:/c%3A/Users/Adde/Desktop/MVE137/MVE137/Project/Project.ipynb#X55sZmlsZQ%3D%3D?line=29'>30</a>\u001b[0m     test_instance \u001b[39m=\u001b[39m X_test[i]      \u001b[39m# Features of the test instance\u001b[39;00m\n\u001b[0;32m     <a href='vscode-notebook-cell:/c%3A/Users/Adde/Desktop/MVE137/MVE137/Project/Project.ipynb#X55sZmlsZQ%3D%3D?line=30'>31</a>\u001b[0m     true_label \u001b[39m=\u001b[39m y_test[i]         \u001b[39m# True class label\u001b[39;00m\n\u001b[0;32m     <a href='vscode-notebook-cell:/c%3A/Users/Adde/Desktop/MVE137/MVE137/Project/Project.ipynb#X55sZmlsZQ%3D%3D?line=32'>33</a>\u001b[0m     \u001b[39m# Use the KNN classifier to make a prediction\u001b[39;00m\n",
      "File \u001b[1;32m~\\AppData\\Local\\Packages\\PythonSoftwareFoundation.Python.3.11_qbz5n2kfra8p0\\LocalCache\\local-packages\\Python311\\site-packages\\pandas\\core\\frame.py:3896\u001b[0m, in \u001b[0;36mDataFrame.__getitem__\u001b[1;34m(self, key)\u001b[0m\n\u001b[0;32m   3894\u001b[0m \u001b[39mif\u001b[39;00m \u001b[39mself\u001b[39m\u001b[39m.\u001b[39mcolumns\u001b[39m.\u001b[39mnlevels \u001b[39m>\u001b[39m \u001b[39m1\u001b[39m:\n\u001b[0;32m   3895\u001b[0m     \u001b[39mreturn\u001b[39;00m \u001b[39mself\u001b[39m\u001b[39m.\u001b[39m_getitem_multilevel(key)\n\u001b[1;32m-> 3896\u001b[0m indexer \u001b[39m=\u001b[39m \u001b[39mself\u001b[39;49m\u001b[39m.\u001b[39;49mcolumns\u001b[39m.\u001b[39;49mget_loc(key)\n\u001b[0;32m   3897\u001b[0m \u001b[39mif\u001b[39;00m is_integer(indexer):\n\u001b[0;32m   3898\u001b[0m     indexer \u001b[39m=\u001b[39m [indexer]\n",
      "File \u001b[1;32m~\\AppData\\Local\\Packages\\PythonSoftwareFoundation.Python.3.11_qbz5n2kfra8p0\\LocalCache\\local-packages\\Python311\\site-packages\\pandas\\core\\indexes\\base.py:3797\u001b[0m, in \u001b[0;36mIndex.get_loc\u001b[1;34m(self, key)\u001b[0m\n\u001b[0;32m   3792\u001b[0m     \u001b[39mif\u001b[39;00m \u001b[39misinstance\u001b[39m(casted_key, \u001b[39mslice\u001b[39m) \u001b[39mor\u001b[39;00m (\n\u001b[0;32m   3793\u001b[0m         \u001b[39misinstance\u001b[39m(casted_key, abc\u001b[39m.\u001b[39mIterable)\n\u001b[0;32m   3794\u001b[0m         \u001b[39mand\u001b[39;00m \u001b[39many\u001b[39m(\u001b[39misinstance\u001b[39m(x, \u001b[39mslice\u001b[39m) \u001b[39mfor\u001b[39;00m x \u001b[39min\u001b[39;00m casted_key)\n\u001b[0;32m   3795\u001b[0m     ):\n\u001b[0;32m   3796\u001b[0m         \u001b[39mraise\u001b[39;00m InvalidIndexError(key)\n\u001b[1;32m-> 3797\u001b[0m     \u001b[39mraise\u001b[39;00m \u001b[39mKeyError\u001b[39;00m(key) \u001b[39mfrom\u001b[39;00m \u001b[39merr\u001b[39;00m\n\u001b[0;32m   3798\u001b[0m \u001b[39mexcept\u001b[39;00m \u001b[39mTypeError\u001b[39;00m:\n\u001b[0;32m   3799\u001b[0m     \u001b[39m# If we have a listlike key, _check_indexing_error will raise\u001b[39;00m\n\u001b[0;32m   3800\u001b[0m     \u001b[39m#  InvalidIndexError. Otherwise we fall through and re-raise\u001b[39;00m\n\u001b[0;32m   3801\u001b[0m     \u001b[39m#  the TypeError.\u001b[39;00m\n\u001b[0;32m   3802\u001b[0m     \u001b[39mself\u001b[39m\u001b[39m.\u001b[39m_check_indexing_error(key)\n",
      "\u001b[1;31mKeyError\u001b[0m: 0"
     ]
    }
   ],
   "source": [
    "# Split the data into features (X) and labels (y)\n",
    "X_train = train_set.iloc[:, 1:-1].values  # Features for training\n",
    "y_train = train_set.iloc[:, -1].values    # Labels for training\n",
    "\n",
    "# You can use the previously defined function\n",
    "\n",
    "def knn_algorithm(traindata, testdata, k_neighbours=5):\n",
    "    num_classes = len(np.unique(traindata[:, -1]))\n",
    "    \n",
    "    distances = np.sqrt(np.sum((traindata[:, :-1] - testdata) ** 2, axis=1))\n",
    "    sorted_indices = np.argsort(distances)\n",
    "    k_indices = sorted_indices[:k_neighbours]\n",
    "    k_nearest_labels = traindata[k_indices, -1]\n",
    "    \n",
    "    unique_labels, counts = np.unique(k_nearest_labels, return_counts=True)\n",
    "    classification_result, = unique_labels[np.argmax(counts)]\n",
    "    \n",
    "    # Calculate confidence as the ratio of the most common class count to k_neighbors\n",
    "    confidence = counts.max() / k_neighbours\n",
    "    \n",
    "    return classification_result, confidence\n",
    "\n",
    "k_neighbours = 5\n",
    "# Initialize lists to store incorrect predictions and their corresponding confidences\n",
    "incorrect_predictions = []\n",
    "incorrect_confidences = []\n",
    "\n",
    "# Iterate through the test set\n",
    "for i in range(len(X_test)):\n",
    "    test_instance = X_test[i]      # Features of the test instance\n",
    "    true_label = y_test[i]         # True class label\n",
    "    \n",
    "    # Use the KNN classifier to make a prediction\n",
    "    predicted_label, confidence = knn_algorithm(X_train, test_instance, k_neighbours)\n",
    "    \n",
    "    # Check if the prediction is incorrect\n",
    "    if predicted_label != true_label:\n",
    "        incorrect_predictions.append(i)\n",
    "        incorrect_confidences.append(confidence)\n",
    "\n",
    "# Print the confidence for the incorrect predictions\n",
    "print(\"Confidence for incorrect predictions:\")\n",
    "for i, confidence in zip(incorrect_predictions, incorrect_confidences):\n",
    "    print(f\"Sample {i+1}: Confidence = {confidence:.2f}\")\n",
    "\n",
    "# Calculate and print the accuracy of the predictions\n",
    "accuracy = 1 - (len(incorrect_predictions) / len(X_test))\n",
    "print(\"\\nAccuracy:\", accuracy)\n",
    "et.iloc[:, 1:-1].values    # Features for testing\n",
    "y_test = test_set.iloc[:, -1].values      # True labels for testing\n",
    "\n",
    "# Define the knn_algorithm function from part (a) here\n",
    "# You can use the previously defined function\n",
    "\n",
    "def knn_algorithm(traindata, testdata, k_neighbours=5):\n",
    "    # ... (the code for knn_algorithm as defined earlier)\n",
    "    return\n",
    "k_neighbors = 5  # Set the number of neighbors\n",
    "\n",
    "# Initialize lists to store incorrect predictions and their corresponding confidences\n",
    "incorrect_predictions = []\n",
    "incorrect_confidences = []\n",
    "\n",
    "# Iterate through the test set\n",
    "for i in range(len(X_test)):\n",
    "    test_instance = X_test[i]      # Features of the test instance\n",
    "    true_label = y_test[i]         # True class label\n",
    "    \n",
    "    # Use the KNN classifier to make a prediction\n",
    "    predicted_label, confidence = knn_algorithm(X_train, test_instance, k_neighbors)\n",
    "    \n",
    "    # Check if the prediction is incorrect\n",
    "    if predicted_label != true_label:\n",
    "        incorrect_predictions.append(i)\n",
    "        incorrect_confidences.append(confidence)\n",
    "\n",
    "# Print the confidence for the incorrect predictions\n",
    "print(\"Confidence for incorrect predictions:\")\n",
    "for i, confidence in zip(incorrect_predictions, incorrect_confidences):\n",
    "    print(f\"Sample {i+1}: Confidence = {confidence:.2f}\")\n",
    "\n",
    "# Calculate and print the accuracy of the predictions\n",
    "accuracy = 1 - (len(incorrect_predictions) / len(X_test))\n",
    "print(\"\\nAccuracy:\", accuracy)"
   ]
  },
  {
   "cell_type": "markdown",
   "id": "3f358925",
   "metadata": {},
   "source": [
    "**Effect of reduction in training data size on confidence of predictions**"
   ]
  },
  {
   "cell_type": "markdown",
   "id": "a5137829",
   "metadata": {},
   "source": [
    "(f) Now increase the test set size to 40% of the dataset while keeping the same *k_neighbours* and print the confidence and accuracy of the predictions similar to the previous question. Explain the results in comparison with (e) **(2 pts)**"
   ]
  },
  {
   "cell_type": "code",
   "execution_count": 125,
   "id": "ad9f89bd",
   "metadata": {},
   "outputs": [
    {
     "ename": "ValueError",
     "evalue": "operands could not be broadcast together with shapes (560,7) (8,) ",
     "output_type": "error",
     "traceback": [
      "\u001b[1;31m---------------------------------------------------------------------------\u001b[0m",
      "\u001b[1;31mValueError\u001b[0m                                Traceback (most recent call last)",
      "\u001b[1;32mc:\\Users\\Adde\\Desktop\\MVE137\\MVE137\\Project\\Project.ipynb Cell 44\u001b[0m line \u001b[0;36m1\n\u001b[0;32m     <a href='vscode-notebook-cell:/c%3A/Users/Adde/Desktop/MVE137/MVE137/Project/Project.ipynb#X61sZmlsZQ%3D%3D?line=15'>16</a>\u001b[0m true_label \u001b[39m=\u001b[39m y_test[i]         \u001b[39m# True class label\u001b[39;00m\n\u001b[0;32m     <a href='vscode-notebook-cell:/c%3A/Users/Adde/Desktop/MVE137/MVE137/Project/Project.ipynb#X61sZmlsZQ%3D%3D?line=17'>18</a>\u001b[0m \u001b[39m# Use the KNN classifier to make a prediction\u001b[39;00m\n\u001b[1;32m---> <a href='vscode-notebook-cell:/c%3A/Users/Adde/Desktop/MVE137/MVE137/Project/Project.ipynb#X61sZmlsZQ%3D%3D?line=18'>19</a>\u001b[0m predicted_label, confidence \u001b[39m=\u001b[39m knn_algorithm(X_train, test_instance, k_neighbours)\n\u001b[0;32m     <a href='vscode-notebook-cell:/c%3A/Users/Adde/Desktop/MVE137/MVE137/Project/Project.ipynb#X61sZmlsZQ%3D%3D?line=20'>21</a>\u001b[0m \u001b[39m# Check if the prediction is incorrect\u001b[39;00m\n\u001b[0;32m     <a href='vscode-notebook-cell:/c%3A/Users/Adde/Desktop/MVE137/MVE137/Project/Project.ipynb#X61sZmlsZQ%3D%3D?line=21'>22</a>\u001b[0m \u001b[39mif\u001b[39;00m predicted_label \u001b[39m!=\u001b[39m true_label:\n",
      "\u001b[1;32mc:\\Users\\Adde\\Desktop\\MVE137\\MVE137\\Project\\Project.ipynb Cell 44\u001b[0m line \u001b[0;36m1\n\u001b[0;32m      <a href='vscode-notebook-cell:/c%3A/Users/Adde/Desktop/MVE137/MVE137/Project/Project.ipynb#X61sZmlsZQ%3D%3D?line=6'>7</a>\u001b[0m \u001b[39mdef\u001b[39;00m \u001b[39mknn_algorithm\u001b[39m(traindata, testdata, k_neighbours\u001b[39m=\u001b[39m\u001b[39m5\u001b[39m):\n\u001b[0;32m      <a href='vscode-notebook-cell:/c%3A/Users/Adde/Desktop/MVE137/MVE137/Project/Project.ipynb#X61sZmlsZQ%3D%3D?line=7'>8</a>\u001b[0m     num_classes \u001b[39m=\u001b[39m \u001b[39mlen\u001b[39m(np\u001b[39m.\u001b[39munique(traindata[:, \u001b[39m-\u001b[39m\u001b[39m1\u001b[39m]))\n\u001b[1;32m---> <a href='vscode-notebook-cell:/c%3A/Users/Adde/Desktop/MVE137/MVE137/Project/Project.ipynb#X61sZmlsZQ%3D%3D?line=9'>10</a>\u001b[0m     distances \u001b[39m=\u001b[39m np\u001b[39m.\u001b[39msqrt(np\u001b[39m.\u001b[39msum((traindata[:, :\u001b[39m-\u001b[39;49m\u001b[39m1\u001b[39;49m] \u001b[39m-\u001b[39;49m testdata) \u001b[39m*\u001b[39m\u001b[39m*\u001b[39m \u001b[39m2\u001b[39m, axis\u001b[39m=\u001b[39m\u001b[39m1\u001b[39m))\n\u001b[0;32m     <a href='vscode-notebook-cell:/c%3A/Users/Adde/Desktop/MVE137/MVE137/Project/Project.ipynb#X61sZmlsZQ%3D%3D?line=10'>11</a>\u001b[0m     sorted_indices \u001b[39m=\u001b[39m np\u001b[39m.\u001b[39margsort(distances)\n\u001b[0;32m     <a href='vscode-notebook-cell:/c%3A/Users/Adde/Desktop/MVE137/MVE137/Project/Project.ipynb#X61sZmlsZQ%3D%3D?line=11'>12</a>\u001b[0m     k_indices \u001b[39m=\u001b[39m sorted_indices[:k_neighbours]\n",
      "\u001b[1;31mValueError\u001b[0m: operands could not be broadcast together with shapes (560,7) (8,) "
     ]
    }
   ],
   "source": [
    "# Split the data into features (X) and labels (y)\n",
    "X_train = train_set.iloc[:, 1:-1].values  # Features for training\n",
    "y_train = train_set.iloc[:, -1].values    # Labels for training\n",
    "X_test = test_set.iloc[:, 1:-1].values    # Features for testing\n",
    "y_test = test_set.iloc[:, -1].values      # True labels for testing\n",
    "\n",
    "k_neighbours = 5\n",
    "\n",
    "# Initialize lists to store incorrect predictions and their corresponding confidences\n",
    "incorrect_predictions = []\n",
    "incorrect_confidences = []\n",
    "\n",
    "# Iterate through the test set\n",
    "for i in range(len(X_test)):\n",
    "    test_instance = X_test[i]      # Features of the test instance\n",
    "    true_label = y_test[i]         # True class label\n",
    "    \n",
    "    # Use the KNN classifier to make a prediction\n",
    "    predicted_label, confidence = knn_algorithm(X_train, test_instance, k_neighbours)\n",
    "    \n",
    "    # Check if the prediction is incorrect\n",
    "    if predicted_label != true_label:\n",
    "        incorrect_predictions.append(i)\n",
    "        incorrect_confidences.append(confidence)\n",
    "\n",
    "# Print the confidence for the incorrect predictions\n",
    "print(\"Confidence for incorrect predictions:\")\n",
    "for i, confidence in zip(incorrect_predictions, incorrect_confidences):\n",
    "    print(f\"Sample {i+1}: Confidence = {confidence:.2f}\")\n",
    "\n",
    "# Calculate and print the accuracy of the predictions\n",
    "accuracy = 1 - (len(incorrect_predictions) / len(X_test))\n",
    "print(\"\\nAccuracy:\", accuracy)"
   ]
  },
  {
   "cell_type": "markdown",
   "id": "33a84cc8",
   "metadata": {},
   "source": [
    "#### Alternative classification methods\n"
   ]
  },
  {
   "cell_type": "markdown",
   "metadata": {},
   "source": [
    "(g) Propose alternative classification approaches for this problem and discuss the advantages and disadvantages with respect to KNNs (you don't need to implement them). **(2 pts)**"
   ]
  },
  {
   "cell_type": "markdown",
   "id": "3a9fac97",
   "metadata": {},
   "source": [
    "decision Trees:\n",
    "\n",
    "Pros:\n",
    "Interpretability: Decision trees are easy to understand and explain, making them suitable for decision-making processes where interpretability is crucial.\n",
    "Feature Selection: Decision trees naturally select important features, helping identify key variables in the dataset.\n",
    "\n",
    "Cons:\n",
    "Overfitting: Decision trees tend to overfit, leading to poor generalization on unseen data. This requires techniques like pruning to mitigate.\n",
    "Instability: Small variations in the training data can result in significantly different decision trees, making them unstable models.\n",
    "k-Nearest Neighbors (k-NN):\n",
    "\n",
    "Pros:\n",
    "Simplicity: k-NN is simple to implement and understand, making it a quick choice for baseline models.\n",
    "\n",
    "Robustness: k-NN can perform well in the presence of noisy data, outliers, or irrelevant features.\n",
    "\n",
    "Cons:\n",
    "\n",
    "Computational Cost: k-NN can be computationally expensive, especially with large datasets, as it requires calculating distances for each prediction.\n",
    "\n",
    "Sensitivity to k: The choice of the hyperparameter k (number of neighbors) significantly impacts results, and selecting the right k can be challenging."
   ]
  }
 ],
 "metadata": {
  "kernelspec": {
   "display_name": "Python 3 (ipykernel)",
   "language": "python",
   "name": "python3"
  },
  "language_info": {
   "codemirror_mode": {
    "name": "ipython",
    "version": 3
   },
   "file_extension": ".py",
   "mimetype": "text/x-python",
   "name": "python",
   "nbconvert_exporter": "python",
   "pygments_lexer": "ipython3",
   "version": "3.11.6"
  }
 },
 "nbformat": 4,
 "nbformat_minor": 5
}
